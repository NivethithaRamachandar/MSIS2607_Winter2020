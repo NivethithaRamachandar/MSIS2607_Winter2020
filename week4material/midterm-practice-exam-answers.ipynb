{
 "cells": [
  {
   "cell_type": "markdown",
   "metadata": {},
   "source": [
    "# Midterm Practice"
   ]
  },
  {
   "cell_type": "markdown",
   "metadata": {},
   "source": [
    "<b>Penalties:</b> You will incur penalties if:\n",
    "<ul>\n",
    "<li>Your code is wrong</li>\n",
    "<li>Your code would not work on different data</li>\n",
    "<li>Your code is unnecessarily slow (you use a for loop, or you use DataFrame.apply unnecessarily, etc)\n",
    "<li>You answer is composed of more than one output, unless explicitly permitted\n",
    "</ul>"
   ]
  },
  {
   "cell_type": "markdown",
   "metadata": {},
   "source": [
    "## Execute this code to read the data"
   ]
  },
  {
   "cell_type": "code",
   "execution_count": 1,
   "metadata": {
    "collapsed": true
   },
   "outputs": [],
   "source": [
    "import pandas as pd\n",
    "# print all the outputs in a cell\n",
    "from IPython.core.interactiveshell import InteractiveShell\n",
    "InteractiveShell.ast_node_interactivity = \"all\"\n",
    "\n",
    "import pandas as pd\n",
    "import numpy as np\n",
    "\n",
    "df = pd.read_csv('pizzas.csv',index_col=0)\n",
    "df['pizza_description'].fillna('',inplace=True)\n",
    "df['restaurant_zipcode'].fillna('',inplace=True)"
   ]
  },
  {
   "cell_type": "code",
   "execution_count": 2,
   "metadata": {
    "scrolled": false
   },
   "outputs": [
    {
     "data": {
      "text/html": [
       "<div>\n",
       "<style scoped>\n",
       "    .dataframe tbody tr th:only-of-type {\n",
       "        vertical-align: middle;\n",
       "    }\n",
       "\n",
       "    .dataframe tbody tr th {\n",
       "        vertical-align: top;\n",
       "    }\n",
       "\n",
       "    .dataframe thead th {\n",
       "        text-align: right;\n",
       "    }\n",
       "</style>\n",
       "<table border=\"1\" class=\"dataframe\">\n",
       "  <thead>\n",
       "    <tr style=\"text-align: right;\">\n",
       "      <th></th>\n",
       "      <th>restaurant_id</th>\n",
       "      <th>restaurant_city</th>\n",
       "      <th>restaurant_zipcode</th>\n",
       "      <th>restaurant_province</th>\n",
       "      <th>pizza_id</th>\n",
       "      <th>pizza_price</th>\n",
       "      <th>pizza_name</th>\n",
       "      <th>pizza_description</th>\n",
       "    </tr>\n",
       "  </thead>\n",
       "  <tbody>\n",
       "    <tr>\n",
       "      <th>0</th>\n",
       "      <td>AVwc_6KEIN2L1WUfrKAH</td>\n",
       "      <td>Bend</td>\n",
       "      <td>97701</td>\n",
       "      <td>OR</td>\n",
       "      <td>0</td>\n",
       "      <td>15.50</td>\n",
       "      <td>Bianca Pizza</td>\n",
       "      <td></td>\n",
       "    </tr>\n",
       "    <tr>\n",
       "      <th>1</th>\n",
       "      <td>AVwc_6KEIN2L1WUfrKAH</td>\n",
       "      <td>Bend</td>\n",
       "      <td>97701</td>\n",
       "      <td>OR</td>\n",
       "      <td>1</td>\n",
       "      <td>18.95</td>\n",
       "      <td>Cheese Pizza</td>\n",
       "      <td></td>\n",
       "    </tr>\n",
       "    <tr>\n",
       "      <th>2</th>\n",
       "      <td>AVwc_6qRByjofQCxkcxw</td>\n",
       "      <td>Los Angeles</td>\n",
       "      <td>90049</td>\n",
       "      <td>Brentwood</td>\n",
       "      <td>2</td>\n",
       "      <td>12.00</td>\n",
       "      <td>Pizza, Margherita</td>\n",
       "      <td></td>\n",
       "    </tr>\n",
       "    <tr>\n",
       "      <th>3</th>\n",
       "      <td>AVwc_6qRByjofQCxkcxw</td>\n",
       "      <td>Los Angeles</td>\n",
       "      <td>90049</td>\n",
       "      <td>Brentwood</td>\n",
       "      <td>3</td>\n",
       "      <td>13.00</td>\n",
       "      <td>Pizza, Mushroom</td>\n",
       "      <td></td>\n",
       "    </tr>\n",
       "    <tr>\n",
       "      <th>4</th>\n",
       "      <td>AVwc_6qRByjofQCxkcxw</td>\n",
       "      <td>Los Angeles</td>\n",
       "      <td>90049</td>\n",
       "      <td>Brentwood</td>\n",
       "      <td>4</td>\n",
       "      <td>13.00</td>\n",
       "      <td>Pizza, Puttenesca</td>\n",
       "      <td>Olives, onions, capers, tomatoes</td>\n",
       "    </tr>\n",
       "    <tr>\n",
       "      <th>5</th>\n",
       "      <td>AVwc_6qRByjofQCxkcxw</td>\n",
       "      <td>Los Angeles</td>\n",
       "      <td>90049</td>\n",
       "      <td>Brentwood</td>\n",
       "      <td>5</td>\n",
       "      <td>15.00</td>\n",
       "      <td>Pizza, Salami Piccante</td>\n",
       "      <td></td>\n",
       "    </tr>\n",
       "    <tr>\n",
       "      <th>6</th>\n",
       "      <td>AVwc_6qRByjofQCxkcxw</td>\n",
       "      <td>Los Angeles</td>\n",
       "      <td>90049</td>\n",
       "      <td>Brentwood</td>\n",
       "      <td>6</td>\n",
       "      <td>15.00</td>\n",
       "      <td>Pizza, White Truffle Meat Sauce</td>\n",
       "      <td></td>\n",
       "    </tr>\n",
       "    <tr>\n",
       "      <th>7</th>\n",
       "      <td>AVwc_7d_IN2L1WUfrKNN</td>\n",
       "      <td>Los Angeles</td>\n",
       "      <td>90027</td>\n",
       "      <td>Los Feliz</td>\n",
       "      <td>7</td>\n",
       "      <td>7.99</td>\n",
       "      <td>Cheese Pizza</td>\n",
       "      <td>Choose a pizza size.</td>\n",
       "    </tr>\n",
       "    <tr>\n",
       "      <th>8</th>\n",
       "      <td>AVwc_7d_IN2L1WUfrKNN</td>\n",
       "      <td>Los Angeles</td>\n",
       "      <td>90027</td>\n",
       "      <td>Los Feliz</td>\n",
       "      <td>8</td>\n",
       "      <td>7.99</td>\n",
       "      <td>Hawaiian Pizza</td>\n",
       "      <td>Canadian bacon, pineapple.</td>\n",
       "    </tr>\n",
       "    <tr>\n",
       "      <th>9</th>\n",
       "      <td>AVwc_7d_IN2L1WUfrKNN</td>\n",
       "      <td>Los Angeles</td>\n",
       "      <td>90027</td>\n",
       "      <td>Los Feliz</td>\n",
       "      <td>9</td>\n",
       "      <td>11.99</td>\n",
       "      <td>Meat Lover Pizza</td>\n",
       "      <td></td>\n",
       "    </tr>\n",
       "    <tr>\n",
       "      <th>10</th>\n",
       "      <td>AVwc_7d_IN2L1WUfrKNN</td>\n",
       "      <td>Los Angeles</td>\n",
       "      <td>90027</td>\n",
       "      <td>Los Feliz</td>\n",
       "      <td>10</td>\n",
       "      <td>5.99</td>\n",
       "      <td>Pizza Sub</td>\n",
       "      <td></td>\n",
       "    </tr>\n",
       "    <tr>\n",
       "      <th>11</th>\n",
       "      <td>AVwc_7d_IN2L1WUfrKNN</td>\n",
       "      <td>Los Angeles</td>\n",
       "      <td>90027</td>\n",
       "      <td>Los Feliz</td>\n",
       "      <td>11</td>\n",
       "      <td>5.99</td>\n",
       "      <td>Super Pizza Sub</td>\n",
       "      <td></td>\n",
       "    </tr>\n",
       "    <tr>\n",
       "      <th>12</th>\n",
       "      <td>AVwc_7d_IN2L1WUfrKNN</td>\n",
       "      <td>Los Angeles</td>\n",
       "      <td>90027</td>\n",
       "      <td>Los Feliz</td>\n",
       "      <td>12</td>\n",
       "      <td>10.99</td>\n",
       "      <td>Veggie Pizza</td>\n",
       "      <td></td>\n",
       "    </tr>\n",
       "    <tr>\n",
       "      <th>13</th>\n",
       "      <td>AVwc_8WAByjofQCxkdDA</td>\n",
       "      <td>Houston</td>\n",
       "      <td>77003</td>\n",
       "      <td>TX</td>\n",
       "      <td>13</td>\n",
       "      <td>9.95</td>\n",
       "      <td>Create Your Own Pizza</td>\n",
       "      <td>Choose any of your own toppings to make it you...</td>\n",
       "    </tr>\n",
       "    <tr>\n",
       "      <th>14</th>\n",
       "      <td>AVwc_abAIN2L1WUfrEps</td>\n",
       "      <td>Hyannis</td>\n",
       "      <td>2601</td>\n",
       "      <td>MA</td>\n",
       "      <td>14</td>\n",
       "      <td>8.95</td>\n",
       "      <td>Cheese Pizza</td>\n",
       "      <td></td>\n",
       "    </tr>\n",
       "    <tr>\n",
       "      <th>15</th>\n",
       "      <td>AVwc_abAIN2L1WUfrEps</td>\n",
       "      <td>Hyannis</td>\n",
       "      <td>2601</td>\n",
       "      <td>MA</td>\n",
       "      <td>15</td>\n",
       "      <td>10.95</td>\n",
       "      <td>Pepperoni Pizza</td>\n",
       "      <td></td>\n",
       "    </tr>\n",
       "    <tr>\n",
       "      <th>16</th>\n",
       "      <td>AVwc_dHKkufWRAb51Kei</td>\n",
       "      <td>Provo</td>\n",
       "      <td>84602</td>\n",
       "      <td>UT</td>\n",
       "      <td>16</td>\n",
       "      <td>NaN</td>\n",
       "      <td>House Made Pizza</td>\n",
       "      <td></td>\n",
       "    </tr>\n",
       "    <tr>\n",
       "      <th>17</th>\n",
       "      <td>AVwc_dHKkufWRAb51Kei</td>\n",
       "      <td>Provo</td>\n",
       "      <td>84602</td>\n",
       "      <td>UT</td>\n",
       "      <td>17</td>\n",
       "      <td>15.71</td>\n",
       "      <td>Mexican Pizza Dip</td>\n",
       "      <td>Seven layer bean dip</td>\n",
       "    </tr>\n",
       "    <tr>\n",
       "      <th>18</th>\n",
       "      <td>AVwc_dHKkufWRAb51Kei</td>\n",
       "      <td>Provo</td>\n",
       "      <td>84602</td>\n",
       "      <td>UT</td>\n",
       "      <td>18</td>\n",
       "      <td>NaN</td>\n",
       "      <td>Pepperoni Pizza</td>\n",
       "      <td>1 each (324.00 g)</td>\n",
       "    </tr>\n",
       "    <tr>\n",
       "      <th>19</th>\n",
       "      <td>AVwc_dHKkufWRAb51Kei</td>\n",
       "      <td>Provo</td>\n",
       "      <td>84602</td>\n",
       "      <td>UT</td>\n",
       "      <td>19</td>\n",
       "      <td>NaN</td>\n",
       "      <td>Pizza Bagel</td>\n",
       "      <td>1 each (149.18 g)</td>\n",
       "    </tr>\n",
       "  </tbody>\n",
       "</table>\n",
       "</div>"
      ],
      "text/plain": [
       "           restaurant_id restaurant_city restaurant_zipcode  \\\n",
       "0   AVwc_6KEIN2L1WUfrKAH            Bend              97701   \n",
       "1   AVwc_6KEIN2L1WUfrKAH            Bend              97701   \n",
       "2   AVwc_6qRByjofQCxkcxw     Los Angeles              90049   \n",
       "3   AVwc_6qRByjofQCxkcxw     Los Angeles              90049   \n",
       "4   AVwc_6qRByjofQCxkcxw     Los Angeles              90049   \n",
       "5   AVwc_6qRByjofQCxkcxw     Los Angeles              90049   \n",
       "6   AVwc_6qRByjofQCxkcxw     Los Angeles              90049   \n",
       "7   AVwc_7d_IN2L1WUfrKNN     Los Angeles              90027   \n",
       "8   AVwc_7d_IN2L1WUfrKNN     Los Angeles              90027   \n",
       "9   AVwc_7d_IN2L1WUfrKNN     Los Angeles              90027   \n",
       "10  AVwc_7d_IN2L1WUfrKNN     Los Angeles              90027   \n",
       "11  AVwc_7d_IN2L1WUfrKNN     Los Angeles              90027   \n",
       "12  AVwc_7d_IN2L1WUfrKNN     Los Angeles              90027   \n",
       "13  AVwc_8WAByjofQCxkdDA         Houston              77003   \n",
       "14  AVwc_abAIN2L1WUfrEps         Hyannis               2601   \n",
       "15  AVwc_abAIN2L1WUfrEps         Hyannis               2601   \n",
       "16  AVwc_dHKkufWRAb51Kei           Provo              84602   \n",
       "17  AVwc_dHKkufWRAb51Kei           Provo              84602   \n",
       "18  AVwc_dHKkufWRAb51Kei           Provo              84602   \n",
       "19  AVwc_dHKkufWRAb51Kei           Provo              84602   \n",
       "\n",
       "   restaurant_province  pizza_id  pizza_price  \\\n",
       "0                   OR         0        15.50   \n",
       "1                   OR         1        18.95   \n",
       "2            Brentwood         2        12.00   \n",
       "3            Brentwood         3        13.00   \n",
       "4            Brentwood         4        13.00   \n",
       "5            Brentwood         5        15.00   \n",
       "6            Brentwood         6        15.00   \n",
       "7            Los Feliz         7         7.99   \n",
       "8            Los Feliz         8         7.99   \n",
       "9            Los Feliz         9        11.99   \n",
       "10           Los Feliz        10         5.99   \n",
       "11           Los Feliz        11         5.99   \n",
       "12           Los Feliz        12        10.99   \n",
       "13                  TX        13         9.95   \n",
       "14                  MA        14         8.95   \n",
       "15                  MA        15        10.95   \n",
       "16                  UT        16          NaN   \n",
       "17                  UT        17        15.71   \n",
       "18                  UT        18          NaN   \n",
       "19                  UT        19          NaN   \n",
       "\n",
       "                         pizza_name  \\\n",
       "0                      Bianca Pizza   \n",
       "1                      Cheese Pizza   \n",
       "2                 Pizza, Margherita   \n",
       "3                   Pizza, Mushroom   \n",
       "4                 Pizza, Puttenesca   \n",
       "5            Pizza, Salami Piccante   \n",
       "6   Pizza, White Truffle Meat Sauce   \n",
       "7                      Cheese Pizza   \n",
       "8                    Hawaiian Pizza   \n",
       "9                  Meat Lover Pizza   \n",
       "10                        Pizza Sub   \n",
       "11                  Super Pizza Sub   \n",
       "12                     Veggie Pizza   \n",
       "13            Create Your Own Pizza   \n",
       "14                     Cheese Pizza   \n",
       "15                  Pepperoni Pizza   \n",
       "16                 House Made Pizza   \n",
       "17                Mexican Pizza Dip   \n",
       "18                  Pepperoni Pizza   \n",
       "19                      Pizza Bagel   \n",
       "\n",
       "                                    pizza_description  \n",
       "0                                                      \n",
       "1                                                      \n",
       "2                                                      \n",
       "3                                                      \n",
       "4                    Olives, onions, capers, tomatoes  \n",
       "5                                                      \n",
       "6                                                      \n",
       "7                                Choose a pizza size.  \n",
       "8                          Canadian bacon, pineapple.  \n",
       "9                                                      \n",
       "10                                                     \n",
       "11                                                     \n",
       "12                                                     \n",
       "13  Choose any of your own toppings to make it you...  \n",
       "14                                                     \n",
       "15                                                     \n",
       "16                                                     \n",
       "17                               Seven layer bean dip  \n",
       "18                                  1 each (324.00 g)  \n",
       "19                                  1 each (149.18 g)  "
      ]
     },
     "execution_count": 2,
     "metadata": {},
     "output_type": "execute_result"
    }
   ],
   "source": [
    "df.head(20)"
   ]
  },
  {
   "cell_type": "code",
   "execution_count": 3,
   "metadata": {},
   "outputs": [
    {
     "data": {
      "text/plain": [
       "restaurant_id          False\n",
       "restaurant_city        False\n",
       "restaurant_zipcode     False\n",
       "restaurant_province    False\n",
       "pizza_id               False\n",
       "pizza_price             True\n",
       "pizza_name             False\n",
       "pizza_description      False\n",
       "dtype: bool"
      ]
     },
     "execution_count": 3,
     "metadata": {},
     "output_type": "execute_result"
    }
   ],
   "source": [
    "df.isna().any()"
   ]
  },
  {
   "cell_type": "code",
   "execution_count": 4,
   "metadata": {},
   "outputs": [
    {
     "name": "stdout",
     "output_type": "stream",
     "text": [
      "<class 'pandas.core.frame.DataFrame'>\n",
      "Int64Index: 3510 entries, 0 to 3509\n",
      "Data columns (total 8 columns):\n",
      "restaurant_id          3510 non-null object\n",
      "restaurant_city        3510 non-null object\n",
      "restaurant_zipcode     3510 non-null object\n",
      "restaurant_province    3510 non-null object\n",
      "pizza_id               3510 non-null int64\n",
      "pizza_price            2948 non-null float64\n",
      "pizza_name             3510 non-null object\n",
      "pizza_description      3510 non-null object\n",
      "dtypes: float64(1), int64(1), object(6)\n",
      "memory usage: 246.8+ KB\n"
     ]
    }
   ],
   "source": [
    "df.info()"
   ]
  },
  {
   "cell_type": "markdown",
   "metadata": {},
   "source": [
    "## Data Description"
   ]
  },
  {
   "cell_type": "markdown",
   "metadata": {},
   "source": [
    "The data set reports information on menus of <b>pizzas made by restaurants</b> around the world. <br/>\n",
    "The data frame df has <b>several rows for each restaurant</b> -- each row corresponds to one pizza on the menu of a certain restaurant. For example, from the table above, the first restaurant (restaurant_id AVwc_6KEIN2L1WUfrKAH) has two pizzas on the menu (i.e., two rows on the table), called \"Bianca Pizza\" and \"Cheese Pizza\". The second restaurant (AVwc_6qRByjofQCxkcxw) has five pizzas on the menu.<br/>\n",
    "#### Columns:\n",
    "<ul>\n",
    "<li><b>restaurant_id</b>: identifier of a restaurant\n",
    "<li><b>restaurant_city</b>: city of the restaurant\n",
    "<li><b>restaurant_zipcode</b>: zipcode of the restaurant\n",
    "<li><b>restaurant_province</b>: the province, state, or area of a restaurant\n",
    "<li><b>pizza_id</b>: the identifier (unique throughout the data frame) of a pizza sold at a certain restaurant\n",
    "<li><b>pizza_price</b>: the price of the pizza \n",
    "<li><b>pizza_name</b>: the name of the pizza\n",
    "<li><b>pizza_description</b>: the pizza description\n",
    "</ul>"
   ]
  },
  {
   "cell_type": "markdown",
   "metadata": {},
   "source": [
    "#### Question 1"
   ]
  },
  {
   "cell_type": "markdown",
   "metadata": {},
   "source": [
    "How many pizzas are in the menu of restaurant_id AVwcr6qqByjofQCxhENy?"
   ]
  },
  {
   "cell_type": "code",
   "execution_count": 5,
   "metadata": {},
   "outputs": [
    {
     "data": {
      "text/plain": [
       "3"
      ]
     },
     "execution_count": 5,
     "metadata": {},
     "output_type": "execute_result"
    }
   ],
   "source": [
    "len(df[df.restaurant_id=='AVwcr6qqByjofQCxhENy'])"
   ]
  },
  {
   "cell_type": "markdown",
   "metadata": {},
   "source": [
    "#### Question 2"
   ]
  },
  {
   "cell_type": "markdown",
   "metadata": {},
   "source": [
    "How many pizzas cost less than or equal to \\$2 ?\n",
    "\n",
    "\n",
    "How many pizzas cost more than \\$20 (\\$20 excluded)?"
   ]
  },
  {
   "cell_type": "code",
   "execution_count": 6,
   "metadata": {},
   "outputs": [
    {
     "data": {
      "text/plain": [
       "82"
      ]
     },
     "execution_count": 6,
     "metadata": {},
     "output_type": "execute_result"
    }
   ],
   "source": [
    "(df.pizza_price <=2).sum()"
   ]
  },
  {
   "cell_type": "code",
   "execution_count": 7,
   "metadata": {},
   "outputs": [
    {
     "data": {
      "text/plain": [
       "159"
      ]
     },
     "execution_count": 7,
     "metadata": {},
     "output_type": "execute_result"
    }
   ],
   "source": [
    "(df.pizza_price >20).sum()"
   ]
  },
  {
   "cell_type": "markdown",
   "metadata": {},
   "source": [
    "#### Question 3"
   ]
  },
  {
   "cell_type": "markdown",
   "metadata": {},
   "source": [
    "In which city you can use $0.99(exactly) to buy a pizza ? \n",
    "\n",
    "In which city you can buy the most expensive pizza? \n",
    "\n",
    "<u>Both question assume no ties. Return just one string with the city name (not a Series or a DataFrame).</u>"
   ]
  },
  {
   "cell_type": "code",
   "execution_count": 8,
   "metadata": {},
   "outputs": [
    {
     "data": {
      "text/plain": [
       "'Milford'"
      ]
     },
     "execution_count": 8,
     "metadata": {},
     "output_type": "execute_result"
    }
   ],
   "source": [
    "df[df.pizza_price==0.99].restaurant_city.values[0]"
   ]
  },
  {
   "cell_type": "markdown",
   "metadata": {},
   "source": [
    "Most expensive pizza:"
   ]
  },
  {
   "cell_type": "code",
   "execution_count": 9,
   "metadata": {},
   "outputs": [
    {
     "data": {
      "text/plain": [
       "'New York'"
      ]
     },
     "execution_count": 9,
     "metadata": {},
     "output_type": "execute_result"
    }
   ],
   "source": [
    "df[df.pizza_price==df.pizza_price.nlargest(1).values[0]].\\\n",
    "    restaurant_city.values[0]"
   ]
  },
  {
   "cell_type": "markdown",
   "metadata": {},
   "source": [
    "#### Question 4"
   ]
  },
  {
   "cell_type": "markdown",
   "metadata": {},
   "source": [
    "For each province, report the number of restaurants that sell at least one pizza for $100 or more. Report only the provinces with non zero count. "
   ]
  },
  {
   "cell_type": "code",
   "execution_count": 10,
   "metadata": {
    "scrolled": true
   },
   "outputs": [
    {
     "data": {
      "text/plain": [
       "restaurant_province\n",
       "Country Life Acres       1\n",
       "NY                       1\n",
       "Nyc                      1\n",
       "TX                       1\n",
       "VA                       1\n",
       "Village Of Wellington    1\n",
       "Name: restaurant_province, dtype: int64"
      ]
     },
     "execution_count": 10,
     "metadata": {},
     "output_type": "execute_result"
    }
   ],
   "source": [
    "df[df.pizza_price >= 100].groupby('restaurant_province')\\\n",
    "    ['restaurant_province'].size()"
   ]
  },
  {
   "cell_type": "markdown",
   "metadata": {},
   "source": [
    "#### Question 5"
   ]
  },
  {
   "cell_type": "markdown",
   "metadata": {},
   "source": [
    "How many restaurants are located in the largest (i.e, maximum) zipcode? <u>You must return only one number</u>"
   ]
  },
  {
   "cell_type": "code",
   "execution_count": 11,
   "metadata": {},
   "outputs": [
    {
     "data": {
      "text/plain": [
       "1"
      ]
     },
     "execution_count": 11,
     "metadata": {},
     "output_type": "execute_result"
    }
   ],
   "source": [
    "len(df[df.restaurant_zipcode==df.restaurant_zipcode.max()])"
   ]
  },
  {
   "cell_type": "markdown",
   "metadata": {},
   "source": [
    "#### Question 6"
   ]
  },
  {
   "cell_type": "markdown",
   "metadata": {},
   "source": [
    "The same pizza_name may be used in many restaurants. Find the top 5 most popular pizza_names in descending order."
   ]
  },
  {
   "cell_type": "code",
   "execution_count": 12,
   "metadata": {
    "scrolled": true
   },
   "outputs": [
    {
     "data": {
      "text/plain": [
       "pizza_name\n",
       "Cheese Pizza        136\n",
       "White Pizza          75\n",
       "Margherita Pizza     63\n",
       "Pizza                62\n",
       "Hawaiian Pizza       54\n",
       "Name: pizza_name, dtype: int64"
      ]
     },
     "execution_count": 12,
     "metadata": {},
     "output_type": "execute_result"
    }
   ],
   "source": [
    "df.groupby('pizza_name')['pizza_name'].\\\n",
    "        size().nlargest(5)"
   ]
  },
  {
   "cell_type": "markdown",
   "metadata": {},
   "source": [
    "#### Question 7"
   ]
  },
  {
   "cell_type": "markdown",
   "metadata": {},
   "source": [
    "Find how many <u>distinct</u> pizza_names are sold in locations whose zipcode starts with \"95\". <i>Hint</i>: Series.unique() find the list of unique values in a Series."
   ]
  },
  {
   "cell_type": "code",
   "execution_count": 13,
   "metadata": {
    "collapsed": true
   },
   "outputs": [],
   "source": [
    "df_95 = df[df.restaurant_zipcode.\\\n",
    "        apply(lambda x: True if x.startswith('95') else False)]"
   ]
  },
  {
   "cell_type": "code",
   "execution_count": 14,
   "metadata": {},
   "outputs": [
    {
     "data": {
      "text/plain": [
       "33"
      ]
     },
     "execution_count": 14,
     "metadata": {},
     "output_type": "execute_result"
    }
   ],
   "source": [
    "len(df_95.pizza_name.unique())"
   ]
  },
  {
   "cell_type": "markdown",
   "metadata": {},
   "source": [
    "#### Question 8"
   ]
  },
  {
   "cell_type": "markdown",
   "metadata": {},
   "source": [
    "The same pizza_name may appear in different cities. For each pizza_name, find the city with that pizza_name appears most times in different restaurants. List the top 5 most commonly appear pizza names together with their city name."
   ]
  },
  {
   "cell_type": "code",
   "execution_count": 15,
   "metadata": {},
   "outputs": [
    {
     "data": {
      "text/plain": [
       "pizza_name             restaurant_city\n",
       "Pizza Steak            Philadelphia       8\n",
       "Margherita Pizza       New York           7\n",
       "Pizza Fries            Philadelphia       7\n",
       "Pizza Burger           Philadelphia       6\n",
       "Buffalo Chicken Pizza  Philadelphia       4\n",
       "Name: pizza_name, dtype: int64"
      ]
     },
     "execution_count": 15,
     "metadata": {},
     "output_type": "execute_result"
    }
   ],
   "source": [
    "df.groupby(['pizza_name','restaurant_city'])['pizza_name'].\\\n",
    "    count().nlargest(5)"
   ]
  },
  {
   "cell_type": "markdown",
   "metadata": {},
   "source": [
    "#### Question 9"
   ]
  },
  {
   "cell_type": "markdown",
   "metadata": {},
   "source": [
    "Let us define \"average pizza price of a city\" as the average price of all pizzas sold in that city. Find the cities whose average pizza price is at least $20 higher than the average pizza price (computed throughout the whole data set). Report both the city and its average pizza price."
   ]
  },
  {
   "cell_type": "code",
   "execution_count": 16,
   "metadata": {
    "collapsed": true
   },
   "outputs": [],
   "source": [
    "s_avg = df.groupby('restaurant_city')['pizza_price'].mean()"
   ]
  },
  {
   "cell_type": "code",
   "execution_count": 17,
   "metadata": {},
   "outputs": [
    {
     "data": {
      "text/plain": [
       "restaurant_city\n",
       "Abington     9.120588\n",
       "Addison      5.276667\n",
       "Akron       15.000000\n",
       "Alachua      7.913333\n",
       "Alameda      9.906667\n",
       "Name: pizza_price, dtype: float64"
      ]
     },
     "execution_count": 17,
     "metadata": {},
     "output_type": "execute_result"
    }
   ],
   "source": [
    "s_avg.head()"
   ]
  },
  {
   "cell_type": "code",
   "execution_count": 18,
   "metadata": {},
   "outputs": [
    {
     "data": {
      "text/plain": [
       "restaurant_city\n",
       "Henrico       40.09\n",
       "Hollywood     69.95\n",
       "Wellington    65.64\n",
       "Name: pizza_price, dtype: float64"
      ]
     },
     "execution_count": 18,
     "metadata": {},
     "output_type": "execute_result"
    }
   ],
   "source": [
    "s_avg[s_avg > df.pizza_price.mean() + 20]"
   ]
  },
  {
   "cell_type": "markdown",
   "metadata": {},
   "source": [
    "#### Question 10"
   ]
  },
  {
   "cell_type": "markdown",
   "metadata": {},
   "source": [
    "<p>The same pizza_name may be used in many restaurants, and may be sold for different prices. For a given pizza_name, let us define <i>spread</i> as the difference between the maximum and minimum price at which that pizza is sold. What are the <b>five</b> pizza names with the widest spread? Report both the pizza names and the spreads.</p>"
   ]
  },
  {
   "cell_type": "code",
   "execution_count": 19,
   "metadata": {
    "collapsed": true
   },
   "outputs": [],
   "source": [
    "df_spread = df.groupby('pizza_name')['pizza_price'].agg(['min','max']).\\\n",
    "    rename(columns={'min':'min_price','max':'max_price'})"
   ]
  },
  {
   "cell_type": "code",
   "execution_count": 20,
   "metadata": {},
   "outputs": [
    {
     "data": {
      "text/plain": [
       "pizza_name\n",
       "Pizza                115.74\n",
       "Steak Pizzaiola       80.00\n",
       "Hawaiian Pizza        33.00\n",
       "Bbq Chicken Pizza     30.00\n",
       "Taco Pizza            23.26\n",
       "Name: spread, dtype: float64"
      ]
     },
     "execution_count": 20,
     "metadata": {},
     "output_type": "execute_result"
    }
   ],
   "source": [
    "df_spread['spread'] = df_spread.max_price - df_spread.min_price\n",
    "df_spread['spread'].nlargest(5)"
   ]
  },
  {
   "cell_type": "markdown",
   "metadata": {},
   "source": [
    "**Note:** Or .."
   ]
  },
  {
   "cell_type": "code",
   "execution_count": 21,
   "metadata": {},
   "outputs": [
    {
     "data": {
      "text/plain": [
       "pizza_name\n",
       "Pizza                115.74\n",
       "Steak Pizzaiola       80.00\n",
       "Hawaiian Pizza        33.00\n",
       "Bbq Chicken Pizza     30.00\n",
       "Taco Pizza            23.26\n",
       "Name: pizza_price, dtype: float64"
      ]
     },
     "execution_count": 21,
     "metadata": {},
     "output_type": "execute_result"
    }
   ],
   "source": [
    "df.groupby('pizza_name')['pizza_price'].agg(\\\n",
    "                        lambda x: x.max() - x.min() ).nlargest(5)"
   ]
  },
  {
   "cell_type": "markdown",
   "metadata": {},
   "source": [
    "#### Question 11"
   ]
  },
  {
   "cell_type": "markdown",
   "metadata": {},
   "source": [
    "<p>The original Margherita pizza does NOT contain garlic. The purpose of this problem is to analyze which provinces violate the original recipe most.</p>\n",
    "<p>For each province, find the proportion of Margherita pizzas that contain garlic (i.e., among all Margherita pizzas, the proportion that contain garlic), <u>sorted by decreasing proportion</u>.</p>\n",
    "<p>Your code must return one entry for each province that sells Margherita pizzas. To identify Margherita pizzas, you must check whether pizza_name contains the word 'Margherita' (or 'margherita'); to identify whether a pizza contains garlic, you must check whether pizza_description contains the word 'garlic' (or 'Garlic'). \n",
    "    \n",
    "<p><i>Hint 1</i>: make a copy of the original data frame before solving this problem.</p>\n",
    "<i>Hint 2</i>: use .lower() inside lambda function</p>"
   ]
  },
  {
   "cell_type": "code",
   "execution_count": 22,
   "metadata": {},
   "outputs": [
    {
     "data": {
      "text/html": [
       "<div>\n",
       "<style scoped>\n",
       "    .dataframe tbody tr th:only-of-type {\n",
       "        vertical-align: middle;\n",
       "    }\n",
       "\n",
       "    .dataframe tbody tr th {\n",
       "        vertical-align: top;\n",
       "    }\n",
       "\n",
       "    .dataframe thead th {\n",
       "        text-align: right;\n",
       "    }\n",
       "</style>\n",
       "<table border=\"1\" class=\"dataframe\">\n",
       "  <thead>\n",
       "    <tr style=\"text-align: right;\">\n",
       "      <th></th>\n",
       "      <th>restaurant_id</th>\n",
       "      <th>restaurant_city</th>\n",
       "      <th>restaurant_zipcode</th>\n",
       "      <th>restaurant_province</th>\n",
       "      <th>pizza_id</th>\n",
       "      <th>pizza_price</th>\n",
       "      <th>pizza_name</th>\n",
       "      <th>pizza_description</th>\n",
       "    </tr>\n",
       "  </thead>\n",
       "  <tbody>\n",
       "    <tr>\n",
       "      <th>2</th>\n",
       "      <td>AVwc_6qRByjofQCxkcxw</td>\n",
       "      <td>Los Angeles</td>\n",
       "      <td>90049</td>\n",
       "      <td>Brentwood</td>\n",
       "      <td>2</td>\n",
       "      <td>12.00</td>\n",
       "      <td>Pizza, Margherita</td>\n",
       "      <td></td>\n",
       "    </tr>\n",
       "    <tr>\n",
       "      <th>21</th>\n",
       "      <td>AVwc_h3pkufWRAb51LOO</td>\n",
       "      <td>Chicago</td>\n",
       "      <td>60611</td>\n",
       "      <td>Ontario Street</td>\n",
       "      <td>21</td>\n",
       "      <td>10.99</td>\n",
       "      <td>Pizza Margherita</td>\n",
       "      <td></td>\n",
       "    </tr>\n",
       "    <tr>\n",
       "      <th>22</th>\n",
       "      <td>AVwc_h3pkufWRAb51LOO</td>\n",
       "      <td>Chicago</td>\n",
       "      <td>60611</td>\n",
       "      <td>Ontario Street</td>\n",
       "      <td>22</td>\n",
       "      <td>10.99</td>\n",
       "      <td>Pizza Margherita</td>\n",
       "      <td></td>\n",
       "    </tr>\n",
       "    <tr>\n",
       "      <th>69</th>\n",
       "      <td>AVwc0thDkufWRAb5zaBV</td>\n",
       "      <td>Omaha</td>\n",
       "      <td>68154</td>\n",
       "      <td>NE</td>\n",
       "      <td>69</td>\n",
       "      <td>NaN</td>\n",
       "      <td>Margherita Pizza</td>\n",
       "      <td>Fresh mozzarella and basil</td>\n",
       "    </tr>\n",
       "    <tr>\n",
       "      <th>75</th>\n",
       "      <td>AVwc0Wtp_7pvs4fzzSbm</td>\n",
       "      <td>Westminster</td>\n",
       "      <td>21157</td>\n",
       "      <td>MD</td>\n",
       "      <td>75</td>\n",
       "      <td>9.00</td>\n",
       "      <td>Margherita Pizza</td>\n",
       "      <td></td>\n",
       "    </tr>\n",
       "  </tbody>\n",
       "</table>\n",
       "</div>"
      ],
      "text/plain": [
       "           restaurant_id restaurant_city restaurant_zipcode  \\\n",
       "2   AVwc_6qRByjofQCxkcxw     Los Angeles              90049   \n",
       "21  AVwc_h3pkufWRAb51LOO         Chicago              60611   \n",
       "22  AVwc_h3pkufWRAb51LOO         Chicago              60611   \n",
       "69  AVwc0thDkufWRAb5zaBV           Omaha              68154   \n",
       "75  AVwc0Wtp_7pvs4fzzSbm     Westminster              21157   \n",
       "\n",
       "   restaurant_province  pizza_id  pizza_price         pizza_name  \\\n",
       "2            Brentwood         2        12.00  Pizza, Margherita   \n",
       "21      Ontario Street        21        10.99   Pizza Margherita   \n",
       "22      Ontario Street        22        10.99   Pizza Margherita   \n",
       "69                  NE        69          NaN   Margherita Pizza   \n",
       "75                  MD        75         9.00   Margherita Pizza   \n",
       "\n",
       "             pizza_description  \n",
       "2                               \n",
       "21                              \n",
       "22                              \n",
       "69  Fresh mozzarella and basil  \n",
       "75                              "
      ]
     },
     "execution_count": 22,
     "metadata": {},
     "output_type": "execute_result"
    }
   ],
   "source": [
    "# Retrieve only the rows of Margherita pizzas\n",
    "df_marg = df[df.pizza_name.apply(lambda s : \\\n",
    "                True if 'margherita' in s.lower() else False)].copy()\n",
    "df_marg.head()"
   ]
  },
  {
   "cell_type": "code",
   "execution_count": 23,
   "metadata": {},
   "outputs": [
    {
     "data": {
      "text/html": [
       "<div>\n",
       "<style scoped>\n",
       "    .dataframe tbody tr th:only-of-type {\n",
       "        vertical-align: middle;\n",
       "    }\n",
       "\n",
       "    .dataframe tbody tr th {\n",
       "        vertical-align: top;\n",
       "    }\n",
       "\n",
       "    .dataframe thead th {\n",
       "        text-align: right;\n",
       "    }\n",
       "</style>\n",
       "<table border=\"1\" class=\"dataframe\">\n",
       "  <thead>\n",
       "    <tr style=\"text-align: right;\">\n",
       "      <th></th>\n",
       "      <th>restaurant_id</th>\n",
       "      <th>restaurant_city</th>\n",
       "      <th>restaurant_zipcode</th>\n",
       "      <th>restaurant_province</th>\n",
       "      <th>pizza_id</th>\n",
       "      <th>pizza_price</th>\n",
       "      <th>pizza_name</th>\n",
       "      <th>pizza_description</th>\n",
       "      <th>garlic</th>\n",
       "    </tr>\n",
       "  </thead>\n",
       "  <tbody>\n",
       "    <tr>\n",
       "      <th>500</th>\n",
       "      <td>AVwchtud_7pvs4fzwECD</td>\n",
       "      <td>New York</td>\n",
       "      <td>10003</td>\n",
       "      <td>Manhattan</td>\n",
       "      <td>500</td>\n",
       "      <td>16.95</td>\n",
       "      <td>Vegan Margherita Pizza</td>\n",
       "      <td>Tomato, Basil, Garlic, Daiya Cheese</td>\n",
       "      <td>1.0</td>\n",
       "    </tr>\n",
       "    <tr>\n",
       "      <th>629</th>\n",
       "      <td>AVwckjoOIN2L1WUfmdJP</td>\n",
       "      <td>Clifton Park</td>\n",
       "      <td>12065</td>\n",
       "      <td>Elnora</td>\n",
       "      <td>629</td>\n",
       "      <td>15.25</td>\n",
       "      <td>Margherita Pizza</td>\n",
       "      <td>Fresh tomatoes, fresh mozzarella, garlic, and ...</td>\n",
       "      <td>1.0</td>\n",
       "    </tr>\n",
       "    <tr>\n",
       "      <th>734</th>\n",
       "      <td>AVwcl691kufWRAb5w4-V</td>\n",
       "      <td>Yucaipa</td>\n",
       "      <td>92399</td>\n",
       "      <td>CA</td>\n",
       "      <td>734</td>\n",
       "      <td>16.53</td>\n",
       "      <td>Margherita Pizza</td>\n",
       "      <td>Olive oil, italian seasonings, garlic, tomatoe...</td>\n",
       "      <td>1.0</td>\n",
       "    </tr>\n",
       "    <tr>\n",
       "      <th>1331</th>\n",
       "      <td>AVwcy1TPByjofQCxiQcc</td>\n",
       "      <td>Orlando</td>\n",
       "      <td>32819</td>\n",
       "      <td>FL</td>\n",
       "      <td>1331</td>\n",
       "      <td>15.00</td>\n",
       "      <td>Margherita Pizza</td>\n",
       "      <td>Marinated cherry tomato, buffalo mozzarella, p...</td>\n",
       "      <td>1.0</td>\n",
       "    </tr>\n",
       "    <tr>\n",
       "      <th>1660</th>\n",
       "      <td>AVwdA0k7kufWRAb51Y2H</td>\n",
       "      <td>Modesto</td>\n",
       "      <td>95354</td>\n",
       "      <td>CA</td>\n",
       "      <td>1660</td>\n",
       "      <td>13.00</td>\n",
       "      <td>Flat Bread Pizza Margherita</td>\n",
       "      <td>Sliced roma tomatoes, fresh mozzarella, basil,...</td>\n",
       "      <td>1.0</td>\n",
       "    </tr>\n",
       "    <tr>\n",
       "      <th>1757</th>\n",
       "      <td>AVwdbNQ8kufWRAb55xPP</td>\n",
       "      <td>Lake Forest</td>\n",
       "      <td>92630</td>\n",
       "      <td>CA</td>\n",
       "      <td>1757</td>\n",
       "      <td>8.99</td>\n",
       "      <td>Margherita Pizza</td>\n",
       "      <td>Fresh basil, fresh garlic, fresh tomatoes and ...</td>\n",
       "      <td>1.0</td>\n",
       "    </tr>\n",
       "    <tr>\n",
       "      <th>1813</th>\n",
       "      <td>AVwdcwUykufWRAb56CJT</td>\n",
       "      <td>Milwaukee</td>\n",
       "      <td>53226</td>\n",
       "      <td>WI</td>\n",
       "      <td>1813</td>\n",
       "      <td>11.25</td>\n",
       "      <td>Margherita Pizza</td>\n",
       "      <td>roma tomatoes, garlic oil, fresh basil, mozzar...</td>\n",
       "      <td>1.0</td>\n",
       "    </tr>\n",
       "    <tr>\n",
       "      <th>2016</th>\n",
       "      <td>AVwdEIrn_7pvs4fz15Ex</td>\n",
       "      <td>Vernon Rockville</td>\n",
       "      <td>6066</td>\n",
       "      <td>Rockville</td>\n",
       "      <td>2016</td>\n",
       "      <td>10.50</td>\n",
       "      <td>Margherita Pizza</td>\n",
       "      <td>Fresh mozzarella, fresh basil, fresh garlic, t...</td>\n",
       "      <td>1.0</td>\n",
       "    </tr>\n",
       "    <tr>\n",
       "      <th>2252</th>\n",
       "      <td>AVwdIp-7kufWRAb52pf6</td>\n",
       "      <td>Boston</td>\n",
       "      <td>2127</td>\n",
       "      <td>MA</td>\n",
       "      <td>2252</td>\n",
       "      <td>10.00</td>\n",
       "      <td>Margherita Pizza</td>\n",
       "      <td>house made tomato sauce, fresh mozzarella, cho...</td>\n",
       "      <td>1.0</td>\n",
       "    </tr>\n",
       "    <tr>\n",
       "      <th>2452</th>\n",
       "      <td>AVwdLKuFIN2L1WUfs-tY</td>\n",
       "      <td>Prescott</td>\n",
       "      <td>86301</td>\n",
       "      <td>AZ</td>\n",
       "      <td>2452</td>\n",
       "      <td>NaN</td>\n",
       "      <td>Pizza Margherita</td>\n",
       "      <td>White Style (olive oil, minced garlic, salt an...</td>\n",
       "      <td>1.0</td>\n",
       "    </tr>\n",
       "    <tr>\n",
       "      <th>3061</th>\n",
       "      <td>AVwdylBpIN2L1WUfzPbl</td>\n",
       "      <td>Tempe</td>\n",
       "      <td>85281</td>\n",
       "      <td>AZ</td>\n",
       "      <td>3061</td>\n",
       "      <td>14.95</td>\n",
       "      <td>Margherita Pizza</td>\n",
       "      <td>Roma and cherry tomatoes, roasted garlic, extr...</td>\n",
       "      <td>1.0</td>\n",
       "    </tr>\n",
       "    <tr>\n",
       "      <th>3448</th>\n",
       "      <td>AVweSA7V_7pvs4fzBnuz</td>\n",
       "      <td>New Haven</td>\n",
       "      <td>6513</td>\n",
       "      <td>Fair Haven</td>\n",
       "      <td>3448</td>\n",
       "      <td>9.95</td>\n",
       "      <td>Margherita Gourmet Pizza</td>\n",
       "      <td>Sliced tomato, garlic, basil</td>\n",
       "      <td>1.0</td>\n",
       "    </tr>\n",
       "  </tbody>\n",
       "</table>\n",
       "</div>"
      ],
      "text/plain": [
       "             restaurant_id   restaurant_city restaurant_zipcode  \\\n",
       "500   AVwchtud_7pvs4fzwECD          New York              10003   \n",
       "629   AVwckjoOIN2L1WUfmdJP      Clifton Park              12065   \n",
       "734   AVwcl691kufWRAb5w4-V           Yucaipa              92399   \n",
       "1331  AVwcy1TPByjofQCxiQcc           Orlando              32819   \n",
       "1660  AVwdA0k7kufWRAb51Y2H           Modesto              95354   \n",
       "1757  AVwdbNQ8kufWRAb55xPP       Lake Forest              92630   \n",
       "1813  AVwdcwUykufWRAb56CJT         Milwaukee              53226   \n",
       "2016  AVwdEIrn_7pvs4fz15Ex  Vernon Rockville               6066   \n",
       "2252  AVwdIp-7kufWRAb52pf6            Boston               2127   \n",
       "2452  AVwdLKuFIN2L1WUfs-tY          Prescott              86301   \n",
       "3061  AVwdylBpIN2L1WUfzPbl             Tempe              85281   \n",
       "3448  AVweSA7V_7pvs4fzBnuz         New Haven               6513   \n",
       "\n",
       "     restaurant_province  pizza_id  pizza_price                   pizza_name  \\\n",
       "500            Manhattan       500        16.95       Vegan Margherita Pizza   \n",
       "629               Elnora       629        15.25             Margherita Pizza   \n",
       "734                   CA       734        16.53             Margherita Pizza   \n",
       "1331                  FL      1331        15.00             Margherita Pizza   \n",
       "1660                  CA      1660        13.00  Flat Bread Pizza Margherita   \n",
       "1757                  CA      1757         8.99             Margherita Pizza   \n",
       "1813                  WI      1813        11.25             Margherita Pizza   \n",
       "2016           Rockville      2016        10.50             Margherita Pizza   \n",
       "2252                  MA      2252        10.00             Margherita Pizza   \n",
       "2452                  AZ      2452          NaN             Pizza Margherita   \n",
       "3061                  AZ      3061        14.95             Margherita Pizza   \n",
       "3448          Fair Haven      3448         9.95     Margherita Gourmet Pizza   \n",
       "\n",
       "                                      pizza_description  garlic  \n",
       "500                 Tomato, Basil, Garlic, Daiya Cheese     1.0  \n",
       "629   Fresh tomatoes, fresh mozzarella, garlic, and ...     1.0  \n",
       "734   Olive oil, italian seasonings, garlic, tomatoe...     1.0  \n",
       "1331  Marinated cherry tomato, buffalo mozzarella, p...     1.0  \n",
       "1660  Sliced roma tomatoes, fresh mozzarella, basil,...     1.0  \n",
       "1757  Fresh basil, fresh garlic, fresh tomatoes and ...     1.0  \n",
       "1813  roma tomatoes, garlic oil, fresh basil, mozzar...     1.0  \n",
       "2016  Fresh mozzarella, fresh basil, fresh garlic, t...     1.0  \n",
       "2252  house made tomato sauce, fresh mozzarella, cho...     1.0  \n",
       "2452  White Style (olive oil, minced garlic, salt an...     1.0  \n",
       "3061  Roma and cherry tomatoes, roasted garlic, extr...     1.0  \n",
       "3448                       Sliced tomato, garlic, basil     1.0  "
      ]
     },
     "execution_count": 23,
     "metadata": {},
     "output_type": "execute_result"
    }
   ],
   "source": [
    "# add a column 'garlic' with 1 if the description includes garlic\n",
    "df_marg['garlic'] = df_marg.pizza_description.apply(lambda s :\\\n",
    "                        1.0 if 'garlic' in s.lower() else 0.0)\n",
    "df_marg[df_marg.garlic!=0.0]"
   ]
  },
  {
   "cell_type": "code",
   "execution_count": 24,
   "metadata": {
    "collapsed": true
   },
   "outputs": [],
   "source": [
    "s_garlic = df_marg.groupby('restaurant_province')['garlic'].mean().\\\n",
    "        sort_values(ascending=False)"
   ]
  },
  {
   "cell_type": "code",
   "execution_count": 25,
   "metadata": {},
   "outputs": [
    {
     "data": {
      "text/plain": [
       "restaurant_province\n",
       "Elnora                          1.000000\n",
       "Fair Haven                      1.000000\n",
       "WI                              1.000000\n",
       "Rockville                       1.000000\n",
       "CA                              0.375000\n",
       "AZ                              0.333333\n",
       "MA                              0.333333\n",
       "Manhattan                       0.166667\n",
       "FL                              0.166667\n",
       "KS                              0.000000\n",
       "Kingsgate                       0.000000\n",
       "Lawrenceville                   0.000000\n",
       "Woodbury                        0.000000\n",
       "IL                              0.000000\n",
       "MD                              0.000000\n",
       "MI                              0.000000\n",
       "MN                              0.000000\n",
       "IN                              0.000000\n",
       "GA                              0.000000\n",
       "Htfd                            0.000000\n",
       "Hono                            0.000000\n",
       "Guilford Courthouse National    0.000000\n",
       "G P O                           0.000000\n",
       "East Htfd                       0.000000\n",
       "Brentwood                       0.000000\n",
       "Bicentennial                    0.000000\n",
       "AR                              0.000000\n",
       "MT                              0.000000\n",
       "Miami                           0.000000\n",
       "Margate                         0.000000\n",
       "Wedgwood                        0.000000\n",
       "Wankers Corners                 0.000000\n",
       "Valley View                     0.000000\n",
       "TX                              0.000000\n",
       "TN                              0.000000\n",
       "Strawberry Point                0.000000\n",
       "Ssf                             0.000000\n",
       "SD                              0.000000\n",
       "SC                              0.000000\n",
       "PA                              0.000000\n",
       "Ontario Street                  0.000000\n",
       "Olivenhain                      0.000000\n",
       "OR                              0.000000\n",
       "OH                              0.000000\n",
       "Nyc                             0.000000\n",
       "North White Plains              0.000000\n",
       "No Bethesda                     0.000000\n",
       "NY                              0.000000\n",
       "NV                              0.000000\n",
       "NJ                              0.000000\n",
       "NH                              0.000000\n",
       "NE                              0.000000\n",
       "NC                              0.000000\n",
       "Mphs                            0.000000\n",
       "AL                              0.000000\n",
       "Name: garlic, dtype: float64"
      ]
     },
     "execution_count": 25,
     "metadata": {},
     "output_type": "execute_result"
    }
   ],
   "source": [
    "s_garlic"
   ]
  },
  {
   "cell_type": "markdown",
   "metadata": {},
   "source": [
    "If we only want to show rows that are not 0"
   ]
  },
  {
   "cell_type": "code",
   "execution_count": 26,
   "metadata": {},
   "outputs": [
    {
     "data": {
      "text/plain": [
       "restaurant_province\n",
       "Elnora        1.000000\n",
       "Fair Haven    1.000000\n",
       "WI            1.000000\n",
       "Rockville     1.000000\n",
       "CA            0.375000\n",
       "AZ            0.333333\n",
       "MA            0.333333\n",
       "Manhattan     0.166667\n",
       "FL            0.166667\n",
       "Name: garlic, dtype: float64"
      ]
     },
     "execution_count": 26,
     "metadata": {},
     "output_type": "execute_result"
    }
   ],
   "source": [
    "s_garlic[s_garlic.values != 0]"
   ]
  }
 ],
 "metadata": {
  "kernelspec": {
   "display_name": "Python 3",
   "language": "python",
   "name": "python3"
  },
  "language_info": {
   "codemirror_mode": {
    "name": "ipython",
    "version": 3
   },
   "file_extension": ".py",
   "mimetype": "text/x-python",
   "name": "python",
   "nbconvert_exporter": "python",
   "pygments_lexer": "ipython3",
   "version": "3.7.4"
  }
 },
 "nbformat": 4,
 "nbformat_minor": 1
}
