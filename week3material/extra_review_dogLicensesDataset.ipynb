{
 "cells": [
  {
   "cell_type": "code",
   "execution_count": 1,
   "metadata": {},
   "outputs": [
    {
     "name": "stdout",
     "output_type": "stream",
     "text": [
      "DataCleaning.pdf\r\n",
      "DataCleaning.pptx\r\n",
      "DataFrames.pdf\r\n",
      "DataFrames.pptx\r\n",
      "doglicenses.csv\r\n",
      "log_licenses_extrapractice.ipynb\r\n",
      "\u001b[31mmodule 4 -- data frame-Copy1.ipynb\u001b[m\u001b[m*\r\n",
      "\u001b[31mmodule 5 -- cleaning and summary stats.ipynb\u001b[m\u001b[m*\r\n"
     ]
    }
   ],
   "source": [
    "ls"
   ]
  },
  {
   "cell_type": "markdown",
   "metadata": {},
   "source": [
    "data from here:\n",
    "https://data.wprdc.org/dataset/ad5bd3d6-1b53-4ed0-8cd9-157a985bd0bd/resource/f8ab32f7-44c7-43ca-98bf-c1b444724598/download/2099.csv"
   ]
  },
  {
   "cell_type": "code",
   "execution_count": 2,
   "metadata": {},
   "outputs": [],
   "source": [
    "import pandas as pd"
   ]
  },
  {
   "cell_type": "code",
   "execution_count": 3,
   "metadata": {},
   "outputs": [],
   "source": [
    "df = pd.read_csv(\"doglicenses.csv\")"
   ]
  },
  {
   "cell_type": "code",
   "execution_count": 4,
   "metadata": {},
   "outputs": [
    {
     "data": {
      "text/plain": [
       "(30899, 7)"
      ]
     },
     "execution_count": 4,
     "metadata": {},
     "output_type": "execute_result"
    }
   ],
   "source": [
    "df.shape"
   ]
  },
  {
   "cell_type": "code",
   "execution_count": 5,
   "metadata": {},
   "outputs": [
    {
     "data": {
      "text/html": [
       "<div>\n",
       "<style scoped>\n",
       "    .dataframe tbody tr th:only-of-type {\n",
       "        vertical-align: middle;\n",
       "    }\n",
       "\n",
       "    .dataframe tbody tr th {\n",
       "        vertical-align: top;\n",
       "    }\n",
       "\n",
       "    .dataframe thead th {\n",
       "        text-align: right;\n",
       "    }\n",
       "</style>\n",
       "<table border=\"1\" class=\"dataframe\">\n",
       "  <thead>\n",
       "    <tr style=\"text-align: right;\">\n",
       "      <th></th>\n",
       "      <th>ExpYear</th>\n",
       "    </tr>\n",
       "  </thead>\n",
       "  <tbody>\n",
       "    <tr>\n",
       "      <td>count</td>\n",
       "      <td>30899.0</td>\n",
       "    </tr>\n",
       "    <tr>\n",
       "      <td>mean</td>\n",
       "      <td>2099.0</td>\n",
       "    </tr>\n",
       "    <tr>\n",
       "      <td>std</td>\n",
       "      <td>0.0</td>\n",
       "    </tr>\n",
       "    <tr>\n",
       "      <td>min</td>\n",
       "      <td>2099.0</td>\n",
       "    </tr>\n",
       "    <tr>\n",
       "      <td>25%</td>\n",
       "      <td>2099.0</td>\n",
       "    </tr>\n",
       "    <tr>\n",
       "      <td>50%</td>\n",
       "      <td>2099.0</td>\n",
       "    </tr>\n",
       "    <tr>\n",
       "      <td>75%</td>\n",
       "      <td>2099.0</td>\n",
       "    </tr>\n",
       "    <tr>\n",
       "      <td>max</td>\n",
       "      <td>2099.0</td>\n",
       "    </tr>\n",
       "  </tbody>\n",
       "</table>\n",
       "</div>"
      ],
      "text/plain": [
       "       ExpYear\n",
       "count  30899.0\n",
       "mean    2099.0\n",
       "std        0.0\n",
       "min     2099.0\n",
       "25%     2099.0\n",
       "50%     2099.0\n",
       "75%     2099.0\n",
       "max     2099.0"
      ]
     },
     "execution_count": 5,
     "metadata": {},
     "output_type": "execute_result"
    }
   ],
   "source": [
    "df.describe()"
   ]
  },
  {
   "cell_type": "code",
   "execution_count": 6,
   "metadata": {},
   "outputs": [
    {
     "data": {
      "text/plain": [
       "Index(['LicenseType', 'Breed', 'Color', 'DogName', 'OwnerZip', 'ExpYear',\n",
       "       'ValidDate'],\n",
       "      dtype='object')"
      ]
     },
     "execution_count": 6,
     "metadata": {},
     "output_type": "execute_result"
    }
   ],
   "source": [
    "df.columns"
   ]
  },
  {
   "cell_type": "code",
   "execution_count": 28,
   "metadata": {},
   "outputs": [
    {
     "data": {
      "text/html": [
       "<div>\n",
       "<style scoped>\n",
       "    .dataframe tbody tr th:only-of-type {\n",
       "        vertical-align: middle;\n",
       "    }\n",
       "\n",
       "    .dataframe tbody tr th {\n",
       "        vertical-align: top;\n",
       "    }\n",
       "\n",
       "    .dataframe thead th {\n",
       "        text-align: right;\n",
       "    }\n",
       "</style>\n",
       "<table border=\"1\" class=\"dataframe\">\n",
       "  <thead>\n",
       "    <tr style=\"text-align: right;\">\n",
       "      <th></th>\n",
       "      <th>LicenseType</th>\n",
       "      <th>Breed</th>\n",
       "      <th>Color</th>\n",
       "      <th>DogName</th>\n",
       "      <th>OwnerZip</th>\n",
       "      <th>ExpYear</th>\n",
       "      <th>ValidDate</th>\n",
       "    </tr>\n",
       "  </thead>\n",
       "  <tbody>\n",
       "    <tr>\n",
       "      <td>0</td>\n",
       "      <td>Dog Lifetime Neutered Male</td>\n",
       "      <td>MIXED</td>\n",
       "      <td>WHITE/BLACK</td>\n",
       "      <td>BUDDY</td>\n",
       "      <td>15140</td>\n",
       "      <td>2099</td>\n",
       "      <td>5/27/2009 14:44</td>\n",
       "    </tr>\n",
       "    <tr>\n",
       "      <td>1</td>\n",
       "      <td>Dog Lifetime Spayed Female</td>\n",
       "      <td>GER SHORTHAIR POINT</td>\n",
       "      <td>SPOTTED</td>\n",
       "      <td>CABELA</td>\n",
       "      <td>15236</td>\n",
       "      <td>2099</td>\n",
       "      <td>6/23/2009 15:31</td>\n",
       "    </tr>\n",
       "    <tr>\n",
       "      <td>2</td>\n",
       "      <td>Dog Lifetime Male</td>\n",
       "      <td>BEAGLE MIX</td>\n",
       "      <td>BLACK/BROWN</td>\n",
       "      <td>WATSON</td>\n",
       "      <td>15106</td>\n",
       "      <td>2099</td>\n",
       "      <td>6/15/2011 13:37</td>\n",
       "    </tr>\n",
       "    <tr>\n",
       "      <td>3</td>\n",
       "      <td>Dog Lifetime Neutered Male</td>\n",
       "      <td>LABRADOR RETRIEVER</td>\n",
       "      <td>YELLOW</td>\n",
       "      <td>WINSTON</td>\n",
       "      <td>15120</td>\n",
       "      <td>2099</td>\n",
       "      <td>10/18/2019 12:43</td>\n",
       "    </tr>\n",
       "    <tr>\n",
       "      <td>4</td>\n",
       "      <td>Dog Senior Lifetime Spayed Female</td>\n",
       "      <td>BORD COLLIE MIX</td>\n",
       "      <td>WHITE/BLACK</td>\n",
       "      <td>SADIE</td>\n",
       "      <td>15227</td>\n",
       "      <td>2099</td>\n",
       "      <td>6/5/2018 12:39</td>\n",
       "    </tr>\n",
       "  </tbody>\n",
       "</table>\n",
       "</div>"
      ],
      "text/plain": [
       "                         LicenseType                Breed        Color  \\\n",
       "0         Dog Lifetime Neutered Male                MIXED  WHITE/BLACK   \n",
       "1         Dog Lifetime Spayed Female  GER SHORTHAIR POINT      SPOTTED   \n",
       "2                  Dog Lifetime Male           BEAGLE MIX  BLACK/BROWN   \n",
       "3         Dog Lifetime Neutered Male   LABRADOR RETRIEVER       YELLOW   \n",
       "4  Dog Senior Lifetime Spayed Female      BORD COLLIE MIX  WHITE/BLACK   \n",
       "\n",
       "   DogName OwnerZip  ExpYear         ValidDate  \n",
       "0    BUDDY    15140     2099   5/27/2009 14:44  \n",
       "1   CABELA    15236     2099   6/23/2009 15:31  \n",
       "2   WATSON    15106     2099   6/15/2011 13:37  \n",
       "3  WINSTON    15120     2099  10/18/2019 12:43  \n",
       "4    SADIE    15227     2099    6/5/2018 12:39  "
      ]
     },
     "execution_count": 28,
     "metadata": {},
     "output_type": "execute_result"
    }
   ],
   "source": [
    "df.head()"
   ]
  },
  {
   "cell_type": "code",
   "execution_count": 8,
   "metadata": {},
   "outputs": [
    {
     "data": {
      "text/plain": [
       "0           Dog Lifetime Neutered Male\n",
       "1           Dog Lifetime Spayed Female\n",
       "2                    Dog Lifetime Male\n",
       "3           Dog Lifetime Neutered Male\n",
       "4    Dog Senior Lifetime Spayed Female\n",
       "Name: LicenseType, dtype: object"
      ]
     },
     "execution_count": 8,
     "metadata": {},
     "output_type": "execute_result"
    }
   ],
   "source": [
    "df['LicenseType'].head()"
   ]
  },
  {
   "cell_type": "code",
   "execution_count": 9,
   "metadata": {},
   "outputs": [
    {
     "data": {
      "text/plain": [
       "Dog Lifetime Spayed Female               11953\n",
       "Dog Lifetime Neutered Male               10971\n",
       "Dog Senior Lifetime Spayed Female         2348\n",
       "Dog Senior Lifetime Neutered Male         1793\n",
       "Dog Lifetime Duplicate                    1242\n",
       "Dog Lifetime Male                         1061\n",
       "Dog Lifetime Female                        649\n",
       "Dog Out of County Transfer - Lifetime      336\n",
       "Dog Senior Lifetime Male                   240\n",
       "Dog Senior Lifetime Female                 194\n",
       "Dog Inter County Transfer - Lifetime       112\n",
       "Name: LicenseType, dtype: int64"
      ]
     },
     "execution_count": 9,
     "metadata": {},
     "output_type": "execute_result"
    }
   ],
   "source": [
    "df['LicenseType'].value_counts()"
   ]
  },
  {
   "cell_type": "code",
   "execution_count": 10,
   "metadata": {},
   "outputs": [
    {
     "data": {
      "text/plain": [
       "Dog Lifetime Spayed Female               0.386841\n",
       "Dog Lifetime Neutered Male               0.355060\n",
       "Dog Senior Lifetime Spayed Female        0.075990\n",
       "Dog Senior Lifetime Neutered Male        0.058028\n",
       "Dog Lifetime Duplicate                   0.040195\n",
       "Dog Lifetime Male                        0.034338\n",
       "Dog Lifetime Female                      0.021004\n",
       "Dog Out of County Transfer - Lifetime    0.010874\n",
       "Dog Senior Lifetime Male                 0.007767\n",
       "Dog Senior Lifetime Female               0.006279\n",
       "Dog Inter County Transfer - Lifetime     0.003625\n",
       "Name: LicenseType, dtype: float64"
      ]
     },
     "execution_count": 10,
     "metadata": {},
     "output_type": "execute_result"
    }
   ],
   "source": [
    "# if we wanted to save the result, not just show on screen\n",
    "# df['Percent_LicenseTypes'] = df['LicenseType'].value_counts() / len(df)\n",
    "\n",
    "df['LicenseType'].value_counts() / len(df)"
   ]
  },
  {
   "cell_type": "code",
   "execution_count": 29,
   "metadata": {},
   "outputs": [
    {
     "data": {
      "text/plain": [
       "Dog Lifetime Spayed Female               38.68%\n",
       "Dog Lifetime Neutered Male               35.51%\n",
       "Dog Senior Lifetime Spayed Female         7.60%\n",
       "Dog Senior Lifetime Neutered Male         5.80%\n",
       "Dog Lifetime Duplicate                    4.02%\n",
       "Dog Lifetime Male                         3.43%\n",
       "Dog Lifetime Female                       2.10%\n",
       "Dog Out of County Transfer - Lifetime     1.09%\n",
       "Dog Senior Lifetime Male                  0.78%\n",
       "Dog Senior Lifetime Female                0.63%\n",
       "Dog Inter County Transfer - Lifetime      0.36%\n",
       "Name: LicenseType, dtype: object"
      ]
     },
     "execution_count": 29,
     "metadata": {},
     "output_type": "execute_result"
    }
   ],
   "source": [
    "percentages = (df['LicenseType'].value_counts() / len(df)*100)\n",
    "# percentages is a Series object\n",
    "percentages.apply(lambda x: '{:.2f}%'.format(x))"
   ]
  },
  {
   "cell_type": "code",
   "execution_count": 12,
   "metadata": {},
   "outputs": [
    {
     "data": {
      "text/plain": [
       "0    False\n",
       "1    False\n",
       "2    False\n",
       "3    False\n",
       "4    False\n",
       "Name: LicenseType, dtype: bool"
      ]
     },
     "execution_count": 12,
     "metadata": {},
     "output_type": "execute_result"
    }
   ],
   "source": [
    "(df['LicenseType'] == 'Dog Lifetime Duplicate').head()"
   ]
  },
  {
   "cell_type": "code",
   "execution_count": 15,
   "metadata": {},
   "outputs": [
    {
     "data": {
      "text/plain": [
       "False    29657\n",
       "True      1242\n",
       "Name: LicenseType, dtype: int64"
      ]
     },
     "execution_count": 15,
     "metadata": {},
     "output_type": "execute_result"
    }
   ],
   "source": [
    "(df['LicenseType'] == 'Dog Lifetime Duplicate').value_counts()"
   ]
  },
  {
   "cell_type": "code",
   "execution_count": 16,
   "metadata": {},
   "outputs": [
    {
     "data": {
      "text/plain": [
       "False    0.959805\n",
       "True     0.040195\n",
       "Name: LicenseType, dtype: float64"
      ]
     },
     "execution_count": 16,
     "metadata": {},
     "output_type": "execute_result"
    }
   ],
   "source": [
    "(df['LicenseType'] == 'Dog Lifetime Duplicate').value_counts()/len(df)"
   ]
  },
  {
   "cell_type": "code",
   "execution_count": 18,
   "metadata": {},
   "outputs": [
    {
     "data": {
      "text/plain": [
       "0.04019547558173404"
      ]
     },
     "execution_count": 18,
     "metadata": {},
     "output_type": "execute_result"
    }
   ],
   "source": [
    "(df['LicenseType'] == 'Dog Lifetime Duplicate').mean()"
   ]
  },
  {
   "cell_type": "code",
   "execution_count": 20,
   "metadata": {},
   "outputs": [
    {
     "data": {
      "text/plain": [
       "LicenseType    1242\n",
       "Breed          1242\n",
       "Color          1242\n",
       "DogName        1242\n",
       "OwnerZip       1242\n",
       "ExpYear        1242\n",
       "ValidDate      1206\n",
       "dtype: int64"
      ]
     },
     "execution_count": 20,
     "metadata": {},
     "output_type": "execute_result"
    }
   ],
   "source": [
    "df[df['LicenseType'] == 'Dog Lifetime Duplicate'].count()"
   ]
  },
  {
   "cell_type": "code",
   "execution_count": 21,
   "metadata": {},
   "outputs": [
    {
     "data": {
      "text/plain": [
       "1242"
      ]
     },
     "execution_count": 21,
     "metadata": {},
     "output_type": "execute_result"
    }
   ],
   "source": [
    "len(df[df['LicenseType'] == 'Dog Lifetime Duplicate'])"
   ]
  },
  {
   "cell_type": "code",
   "execution_count": 25,
   "metadata": {},
   "outputs": [
    {
     "data": {
      "text/html": [
       "<div>\n",
       "<style scoped>\n",
       "    .dataframe tbody tr th:only-of-type {\n",
       "        vertical-align: middle;\n",
       "    }\n",
       "\n",
       "    .dataframe tbody tr th {\n",
       "        vertical-align: top;\n",
       "    }\n",
       "\n",
       "    .dataframe thead th {\n",
       "        text-align: right;\n",
       "    }\n",
       "</style>\n",
       "<table border=\"1\" class=\"dataframe\">\n",
       "  <thead>\n",
       "    <tr style=\"text-align: right;\">\n",
       "      <th></th>\n",
       "      <th>LicenseType</th>\n",
       "      <th>Breed</th>\n",
       "      <th>Color</th>\n",
       "      <th>DogName</th>\n",
       "      <th>OwnerZip</th>\n",
       "      <th>ExpYear</th>\n",
       "      <th>ValidDate</th>\n",
       "    </tr>\n",
       "  </thead>\n",
       "  <tbody>\n",
       "    <tr>\n",
       "      <td>6</td>\n",
       "      <td>False</td>\n",
       "      <td>False</td>\n",
       "      <td>False</td>\n",
       "      <td>False</td>\n",
       "      <td>False</td>\n",
       "      <td>False</td>\n",
       "      <td>False</td>\n",
       "    </tr>\n",
       "    <tr>\n",
       "      <td>11</td>\n",
       "      <td>False</td>\n",
       "      <td>False</td>\n",
       "      <td>False</td>\n",
       "      <td>False</td>\n",
       "      <td>False</td>\n",
       "      <td>False</td>\n",
       "      <td>False</td>\n",
       "    </tr>\n",
       "    <tr>\n",
       "      <td>72</td>\n",
       "      <td>False</td>\n",
       "      <td>False</td>\n",
       "      <td>False</td>\n",
       "      <td>False</td>\n",
       "      <td>False</td>\n",
       "      <td>False</td>\n",
       "      <td>False</td>\n",
       "    </tr>\n",
       "    <tr>\n",
       "      <td>111</td>\n",
       "      <td>False</td>\n",
       "      <td>False</td>\n",
       "      <td>False</td>\n",
       "      <td>False</td>\n",
       "      <td>False</td>\n",
       "      <td>False</td>\n",
       "      <td>False</td>\n",
       "    </tr>\n",
       "    <tr>\n",
       "      <td>117</td>\n",
       "      <td>False</td>\n",
       "      <td>False</td>\n",
       "      <td>False</td>\n",
       "      <td>False</td>\n",
       "      <td>False</td>\n",
       "      <td>False</td>\n",
       "      <td>False</td>\n",
       "    </tr>\n",
       "  </tbody>\n",
       "</table>\n",
       "</div>"
      ],
      "text/plain": [
       "     LicenseType  Breed  Color  DogName  OwnerZip  ExpYear  ValidDate\n",
       "6          False  False  False    False     False    False      False\n",
       "11         False  False  False    False     False    False      False\n",
       "72         False  False  False    False     False    False      False\n",
       "111        False  False  False    False     False    False      False\n",
       "117        False  False  False    False     False    False      False"
      ]
     },
     "execution_count": 25,
     "metadata": {},
     "output_type": "execute_result"
    }
   ],
   "source": [
    "df[df['LicenseType'] == 'Dog Lifetime Duplicate'].isna().head()"
   ]
  },
  {
   "cell_type": "code",
   "execution_count": 26,
   "metadata": {},
   "outputs": [
    {
     "data": {
      "text/plain": [
       "LicenseType     0\n",
       "Breed           0\n",
       "Color           0\n",
       "DogName         0\n",
       "OwnerZip        0\n",
       "ExpYear         0\n",
       "ValidDate      36\n",
       "dtype: int64"
      ]
     },
     "execution_count": 26,
     "metadata": {},
     "output_type": "execute_result"
    }
   ],
   "source": [
    "df[df['LicenseType'] == 'Dog Lifetime Duplicate'].isna().sum()"
   ]
  },
  {
   "cell_type": "code",
   "execution_count": 32,
   "metadata": {},
   "outputs": [
    {
     "name": "stdout",
     "output_type": "stream",
     "text": [
      "(30899, 7)\n"
     ]
    },
    {
     "data": {
      "text/html": [
       "<div>\n",
       "<style scoped>\n",
       "    .dataframe tbody tr th:only-of-type {\n",
       "        vertical-align: middle;\n",
       "    }\n",
       "\n",
       "    .dataframe tbody tr th {\n",
       "        vertical-align: top;\n",
       "    }\n",
       "\n",
       "    .dataframe thead th {\n",
       "        text-align: right;\n",
       "    }\n",
       "</style>\n",
       "<table border=\"1\" class=\"dataframe\">\n",
       "  <thead>\n",
       "    <tr style=\"text-align: right;\">\n",
       "      <th></th>\n",
       "      <th>LicenseType</th>\n",
       "      <th>Breed</th>\n",
       "      <th>Color</th>\n",
       "      <th>DogName</th>\n",
       "      <th>OwnerZip</th>\n",
       "      <th>ExpYear</th>\n",
       "      <th>ValidDate</th>\n",
       "    </tr>\n",
       "  </thead>\n",
       "  <tbody>\n",
       "    <tr>\n",
       "      <td>0</td>\n",
       "      <td>Dog Lifetime Neutered Male</td>\n",
       "      <td>MIXED</td>\n",
       "      <td>WHITE/BLACK</td>\n",
       "      <td>BUDDY</td>\n",
       "      <td>15140</td>\n",
       "      <td>2099</td>\n",
       "      <td>5/27/2009 14:44</td>\n",
       "    </tr>\n",
       "    <tr>\n",
       "      <td>1</td>\n",
       "      <td>Dog Lifetime Spayed Female</td>\n",
       "      <td>GER SHORTHAIR POINT</td>\n",
       "      <td>SPOTTED</td>\n",
       "      <td>CABELA</td>\n",
       "      <td>15236</td>\n",
       "      <td>2099</td>\n",
       "      <td>6/23/2009 15:31</td>\n",
       "    </tr>\n",
       "    <tr>\n",
       "      <td>2</td>\n",
       "      <td>Dog Lifetime Male</td>\n",
       "      <td>BEAGLE MIX</td>\n",
       "      <td>BLACK/BROWN</td>\n",
       "      <td>WATSON</td>\n",
       "      <td>15106</td>\n",
       "      <td>2099</td>\n",
       "      <td>6/15/2011 13:37</td>\n",
       "    </tr>\n",
       "    <tr>\n",
       "      <td>3</td>\n",
       "      <td>Dog Lifetime Neutered Male</td>\n",
       "      <td>LABRADOR RETRIEVER</td>\n",
       "      <td>YELLOW</td>\n",
       "      <td>WINSTON</td>\n",
       "      <td>15120</td>\n",
       "      <td>2099</td>\n",
       "      <td>10/18/2019 12:43</td>\n",
       "    </tr>\n",
       "    <tr>\n",
       "      <td>4</td>\n",
       "      <td>Dog Senior Lifetime Spayed Female</td>\n",
       "      <td>BORD COLLIE MIX</td>\n",
       "      <td>WHITE/BLACK</td>\n",
       "      <td>SADIE</td>\n",
       "      <td>15227</td>\n",
       "      <td>2099</td>\n",
       "      <td>6/5/2018 12:39</td>\n",
       "    </tr>\n",
       "  </tbody>\n",
       "</table>\n",
       "</div>"
      ],
      "text/plain": [
       "                         LicenseType                Breed        Color  \\\n",
       "0         Dog Lifetime Neutered Male                MIXED  WHITE/BLACK   \n",
       "1         Dog Lifetime Spayed Female  GER SHORTHAIR POINT      SPOTTED   \n",
       "2                  Dog Lifetime Male           BEAGLE MIX  BLACK/BROWN   \n",
       "3         Dog Lifetime Neutered Male   LABRADOR RETRIEVER       YELLOW   \n",
       "4  Dog Senior Lifetime Spayed Female      BORD COLLIE MIX  WHITE/BLACK   \n",
       "\n",
       "   DogName OwnerZip  ExpYear         ValidDate  \n",
       "0    BUDDY    15140     2099   5/27/2009 14:44  \n",
       "1   CABELA    15236     2099   6/23/2009 15:31  \n",
       "2   WATSON    15106     2099   6/15/2011 13:37  \n",
       "3  WINSTON    15120     2099  10/18/2019 12:43  \n",
       "4    SADIE    15227     2099    6/5/2018 12:39  "
      ]
     },
     "execution_count": 32,
     "metadata": {},
     "output_type": "execute_result"
    }
   ],
   "source": [
    "print(df.shape)\n",
    "df.head()"
   ]
  }
 ],
 "metadata": {
  "kernelspec": {
   "display_name": "Python 3",
   "language": "python",
   "name": "python3"
  },
  "language_info": {
   "codemirror_mode": {
    "name": "ipython",
    "version": 3
   },
   "file_extension": ".py",
   "mimetype": "text/x-python",
   "name": "python",
   "nbconvert_exporter": "python",
   "pygments_lexer": "ipython3",
   "version": "3.7.4"
  }
 },
 "nbformat": 4,
 "nbformat_minor": 2
}
