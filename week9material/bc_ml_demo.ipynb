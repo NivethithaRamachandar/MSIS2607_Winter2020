{
 "cells": [
  {
   "cell_type": "markdown",
   "metadata": {},
   "source": [
    "# Machine Learning Demo"
   ]
  },
  {
   "cell_type": "code",
   "execution_count": 1,
   "metadata": {
    "scrolled": true
   },
   "outputs": [
    {
     "name": "stdout",
     "output_type": "stream",
     "text": [
      "done\n"
     ]
    }
   ],
   "source": [
    "import pandas as pd\n",
    "import numpy as np\n",
    "import sklearn\n",
    "from sklearn import preprocessing\n",
    "\n",
    "from scipy.stats import ttest_ind\n",
    "\n",
    "import matplotlib.pyplot as plt\n",
    "%matplotlib inline\n",
    "#plot within python notebook\n",
    "\n",
    "import sys\n",
    "if sys.version_info < (3, 0):\n",
    "    print(\"Error: You are running Python 2. This pynb is written in Python 3.\")\n",
    "print(\"done\")"
   ]
  },
  {
   "cell_type": "markdown",
   "metadata": {},
   "source": [
    "## Loading The Data"
   ]
  },
  {
   "cell_type": "code",
   "execution_count": 2,
   "metadata": {},
   "outputs": [
    {
     "name": "stdout",
     "output_type": "stream",
     "text": [
      "done\n"
     ]
    }
   ],
   "source": [
    "# Load data\n",
    "bc = pd.read_csv('breast-cancer.csv', header=None)\n",
    "\n",
    "print(\"done\")"
   ]
  },
  {
   "cell_type": "markdown",
   "metadata": {},
   "source": [
    "## Loading and Applying the Field/Column Names"
   ]
  },
  {
   "cell_type": "code",
   "execution_count": 3,
   "metadata": {},
   "outputs": [
    {
     "name": "stdout",
     "output_type": "stream",
     "text": [
      "Column Headers:\n",
      "\n",
      "ID\n",
      "diagnosis\n",
      "radius_mean\n",
      "radius_sd_error\n",
      "radius_worst\n",
      "texture_mean\n",
      "texture_sd_error\n",
      "texture_worst\n",
      "perimeter_mean\n",
      "perimeter_sd_error\n",
      "perimeter_worst\n",
      "area_mean\n",
      "area_sd_error\n",
      "area_worst\n",
      "smoothness_mean\n",
      "smoothness_sd_error\n",
      "smoothness_worst\n",
      "compactness_mean\n",
      "compactness_sd_error\n",
      "compactness_worst\n",
      "concavity_mean\n",
      "concavity_sd_error\n",
      "concavity_worst\n",
      "concave_points_mean\n",
      "concave_points_sd_error\n",
      "concave_points_worst\n",
      "symmetry_mean\n",
      "symmetry_sd_error\n",
      "symmetry_worst\n",
      "fractal_dimension_mean\n",
      "fractal_dimension_sd_error\n",
      "fractal_dimension_worst\n",
      "\n",
      "Number of labels loaded: 32\n"
     ]
    }
   ],
   "source": [
    "header_labels = []\n",
    "with open(\"field_names.txt\") as header_labels_file:\n",
    "    print(\"Column Headers:\\n\")\n",
    "    for line in header_labels_file:\n",
    "        header_labels.append(line.strip())\n",
    "for label in header_labels:\n",
    "    print(label)\n",
    "print(\"\\nNumber of labels loaded: {}\".format(len(header_labels)))\n",
    "\n",
    "bc.columns=header_labels"
   ]
  },
  {
   "cell_type": "markdown",
   "metadata": {},
   "source": [
    "### Checking the Results"
   ]
  },
  {
   "cell_type": "code",
   "execution_count": 4,
   "metadata": {},
   "outputs": [
    {
     "name": "stdout",
     "output_type": "stream",
     "text": [
      "Dataframe shape: 569 rows, 32 columns\n",
      "\n",
      "Here are the first few rows:\n"
     ]
    },
    {
     "data": {
      "text/html": [
       "<div>\n",
       "<style scoped>\n",
       "    .dataframe tbody tr th:only-of-type {\n",
       "        vertical-align: middle;\n",
       "    }\n",
       "\n",
       "    .dataframe tbody tr th {\n",
       "        vertical-align: top;\n",
       "    }\n",
       "\n",
       "    .dataframe thead th {\n",
       "        text-align: right;\n",
       "    }\n",
       "</style>\n",
       "<table border=\"1\" class=\"dataframe\">\n",
       "  <thead>\n",
       "    <tr style=\"text-align: right;\">\n",
       "      <th></th>\n",
       "      <th>ID</th>\n",
       "      <th>diagnosis</th>\n",
       "      <th>radius_mean</th>\n",
       "      <th>radius_sd_error</th>\n",
       "      <th>radius_worst</th>\n",
       "      <th>texture_mean</th>\n",
       "      <th>texture_sd_error</th>\n",
       "      <th>texture_worst</th>\n",
       "      <th>perimeter_mean</th>\n",
       "      <th>perimeter_sd_error</th>\n",
       "      <th>...</th>\n",
       "      <th>concavity_worst</th>\n",
       "      <th>concave_points_mean</th>\n",
       "      <th>concave_points_sd_error</th>\n",
       "      <th>concave_points_worst</th>\n",
       "      <th>symmetry_mean</th>\n",
       "      <th>symmetry_sd_error</th>\n",
       "      <th>symmetry_worst</th>\n",
       "      <th>fractal_dimension_mean</th>\n",
       "      <th>fractal_dimension_sd_error</th>\n",
       "      <th>fractal_dimension_worst</th>\n",
       "    </tr>\n",
       "  </thead>\n",
       "  <tbody>\n",
       "    <tr>\n",
       "      <th>0</th>\n",
       "      <td>842302</td>\n",
       "      <td>M</td>\n",
       "      <td>17.99</td>\n",
       "      <td>10.38</td>\n",
       "      <td>122.80</td>\n",
       "      <td>1001.0</td>\n",
       "      <td>0.11840</td>\n",
       "      <td>0.27760</td>\n",
       "      <td>0.3001</td>\n",
       "      <td>0.14710</td>\n",
       "      <td>...</td>\n",
       "      <td>25.38</td>\n",
       "      <td>17.33</td>\n",
       "      <td>184.60</td>\n",
       "      <td>2019.0</td>\n",
       "      <td>0.1622</td>\n",
       "      <td>0.6656</td>\n",
       "      <td>0.7119</td>\n",
       "      <td>0.2654</td>\n",
       "      <td>0.4601</td>\n",
       "      <td>0.11890</td>\n",
       "    </tr>\n",
       "    <tr>\n",
       "      <th>1</th>\n",
       "      <td>842517</td>\n",
       "      <td>M</td>\n",
       "      <td>20.57</td>\n",
       "      <td>17.77</td>\n",
       "      <td>132.90</td>\n",
       "      <td>1326.0</td>\n",
       "      <td>0.08474</td>\n",
       "      <td>0.07864</td>\n",
       "      <td>0.0869</td>\n",
       "      <td>0.07017</td>\n",
       "      <td>...</td>\n",
       "      <td>24.99</td>\n",
       "      <td>23.41</td>\n",
       "      <td>158.80</td>\n",
       "      <td>1956.0</td>\n",
       "      <td>0.1238</td>\n",
       "      <td>0.1866</td>\n",
       "      <td>0.2416</td>\n",
       "      <td>0.1860</td>\n",
       "      <td>0.2750</td>\n",
       "      <td>0.08902</td>\n",
       "    </tr>\n",
       "    <tr>\n",
       "      <th>2</th>\n",
       "      <td>84300903</td>\n",
       "      <td>M</td>\n",
       "      <td>19.69</td>\n",
       "      <td>21.25</td>\n",
       "      <td>130.00</td>\n",
       "      <td>1203.0</td>\n",
       "      <td>0.10960</td>\n",
       "      <td>0.15990</td>\n",
       "      <td>0.1974</td>\n",
       "      <td>0.12790</td>\n",
       "      <td>...</td>\n",
       "      <td>23.57</td>\n",
       "      <td>25.53</td>\n",
       "      <td>152.50</td>\n",
       "      <td>1709.0</td>\n",
       "      <td>0.1444</td>\n",
       "      <td>0.4245</td>\n",
       "      <td>0.4504</td>\n",
       "      <td>0.2430</td>\n",
       "      <td>0.3613</td>\n",
       "      <td>0.08758</td>\n",
       "    </tr>\n",
       "    <tr>\n",
       "      <th>3</th>\n",
       "      <td>84348301</td>\n",
       "      <td>M</td>\n",
       "      <td>11.42</td>\n",
       "      <td>20.38</td>\n",
       "      <td>77.58</td>\n",
       "      <td>386.1</td>\n",
       "      <td>0.14250</td>\n",
       "      <td>0.28390</td>\n",
       "      <td>0.2414</td>\n",
       "      <td>0.10520</td>\n",
       "      <td>...</td>\n",
       "      <td>14.91</td>\n",
       "      <td>26.50</td>\n",
       "      <td>98.87</td>\n",
       "      <td>567.7</td>\n",
       "      <td>0.2098</td>\n",
       "      <td>0.8663</td>\n",
       "      <td>0.6869</td>\n",
       "      <td>0.2575</td>\n",
       "      <td>0.6638</td>\n",
       "      <td>0.17300</td>\n",
       "    </tr>\n",
       "    <tr>\n",
       "      <th>4</th>\n",
       "      <td>84358402</td>\n",
       "      <td>M</td>\n",
       "      <td>20.29</td>\n",
       "      <td>14.34</td>\n",
       "      <td>135.10</td>\n",
       "      <td>1297.0</td>\n",
       "      <td>0.10030</td>\n",
       "      <td>0.13280</td>\n",
       "      <td>0.1980</td>\n",
       "      <td>0.10430</td>\n",
       "      <td>...</td>\n",
       "      <td>22.54</td>\n",
       "      <td>16.67</td>\n",
       "      <td>152.20</td>\n",
       "      <td>1575.0</td>\n",
       "      <td>0.1374</td>\n",
       "      <td>0.2050</td>\n",
       "      <td>0.4000</td>\n",
       "      <td>0.1625</td>\n",
       "      <td>0.2364</td>\n",
       "      <td>0.07678</td>\n",
       "    </tr>\n",
       "    <tr>\n",
       "      <th>5</th>\n",
       "      <td>843786</td>\n",
       "      <td>M</td>\n",
       "      <td>12.45</td>\n",
       "      <td>15.70</td>\n",
       "      <td>82.57</td>\n",
       "      <td>477.1</td>\n",
       "      <td>0.12780</td>\n",
       "      <td>0.17000</td>\n",
       "      <td>0.1578</td>\n",
       "      <td>0.08089</td>\n",
       "      <td>...</td>\n",
       "      <td>15.47</td>\n",
       "      <td>23.75</td>\n",
       "      <td>103.40</td>\n",
       "      <td>741.6</td>\n",
       "      <td>0.1791</td>\n",
       "      <td>0.5249</td>\n",
       "      <td>0.5355</td>\n",
       "      <td>0.1741</td>\n",
       "      <td>0.3985</td>\n",
       "      <td>0.12440</td>\n",
       "    </tr>\n",
       "  </tbody>\n",
       "</table>\n",
       "<p>6 rows × 32 columns</p>\n",
       "</div>"
      ],
      "text/plain": [
       "         ID diagnosis  radius_mean  radius_sd_error  radius_worst  \\\n",
       "0    842302         M        17.99            10.38        122.80   \n",
       "1    842517         M        20.57            17.77        132.90   \n",
       "2  84300903         M        19.69            21.25        130.00   \n",
       "3  84348301         M        11.42            20.38         77.58   \n",
       "4  84358402         M        20.29            14.34        135.10   \n",
       "5    843786         M        12.45            15.70         82.57   \n",
       "\n",
       "   texture_mean  texture_sd_error  texture_worst  perimeter_mean  \\\n",
       "0        1001.0           0.11840        0.27760          0.3001   \n",
       "1        1326.0           0.08474        0.07864          0.0869   \n",
       "2        1203.0           0.10960        0.15990          0.1974   \n",
       "3         386.1           0.14250        0.28390          0.2414   \n",
       "4        1297.0           0.10030        0.13280          0.1980   \n",
       "5         477.1           0.12780        0.17000          0.1578   \n",
       "\n",
       "   perimeter_sd_error           ...             concavity_worst  \\\n",
       "0             0.14710           ...                       25.38   \n",
       "1             0.07017           ...                       24.99   \n",
       "2             0.12790           ...                       23.57   \n",
       "3             0.10520           ...                       14.91   \n",
       "4             0.10430           ...                       22.54   \n",
       "5             0.08089           ...                       15.47   \n",
       "\n",
       "   concave_points_mean  concave_points_sd_error  concave_points_worst  \\\n",
       "0                17.33                   184.60                2019.0   \n",
       "1                23.41                   158.80                1956.0   \n",
       "2                25.53                   152.50                1709.0   \n",
       "3                26.50                    98.87                 567.7   \n",
       "4                16.67                   152.20                1575.0   \n",
       "5                23.75                   103.40                 741.6   \n",
       "\n",
       "   symmetry_mean  symmetry_sd_error  symmetry_worst  fractal_dimension_mean  \\\n",
       "0         0.1622             0.6656          0.7119                  0.2654   \n",
       "1         0.1238             0.1866          0.2416                  0.1860   \n",
       "2         0.1444             0.4245          0.4504                  0.2430   \n",
       "3         0.2098             0.8663          0.6869                  0.2575   \n",
       "4         0.1374             0.2050          0.4000                  0.1625   \n",
       "5         0.1791             0.5249          0.5355                  0.1741   \n",
       "\n",
       "   fractal_dimension_sd_error  fractal_dimension_worst  \n",
       "0                      0.4601                  0.11890  \n",
       "1                      0.2750                  0.08902  \n",
       "2                      0.3613                  0.08758  \n",
       "3                      0.6638                  0.17300  \n",
       "4                      0.2364                  0.07678  \n",
       "5                      0.3985                  0.12440  \n",
       "\n",
       "[6 rows x 32 columns]"
      ]
     },
     "execution_count": 4,
     "metadata": {},
     "output_type": "execute_result"
    }
   ],
   "source": [
    "print(\"Dataframe shape: {} rows, {} columns\\n\".format(bc.shape[0],bc.shape[1]))\n",
    "print(\"Here are the first few rows:\")\n",
    "bc.head(6)"
   ]
  },
  {
   "cell_type": "markdown",
   "metadata": {},
   "source": [
    "## Preprocessing and Data Transformation"
   ]
  },
  {
   "cell_type": "markdown",
   "metadata": {},
   "source": [
    "If we look at the first few lines of data (above), or a summary of the data (below)..."
   ]
  },
  {
   "cell_type": "code",
   "execution_count": 5,
   "metadata": {},
   "outputs": [
    {
     "data": {
      "text/html": [
       "<div>\n",
       "<style scoped>\n",
       "    .dataframe tbody tr th:only-of-type {\n",
       "        vertical-align: middle;\n",
       "    }\n",
       "\n",
       "    .dataframe tbody tr th {\n",
       "        vertical-align: top;\n",
       "    }\n",
       "\n",
       "    .dataframe thead th {\n",
       "        text-align: right;\n",
       "    }\n",
       "</style>\n",
       "<table border=\"1\" class=\"dataframe\">\n",
       "  <thead>\n",
       "    <tr style=\"text-align: right;\">\n",
       "      <th></th>\n",
       "      <th>ID</th>\n",
       "      <th>radius_mean</th>\n",
       "      <th>radius_sd_error</th>\n",
       "      <th>radius_worst</th>\n",
       "      <th>texture_mean</th>\n",
       "      <th>texture_sd_error</th>\n",
       "      <th>texture_worst</th>\n",
       "      <th>perimeter_mean</th>\n",
       "      <th>perimeter_sd_error</th>\n",
       "      <th>perimeter_worst</th>\n",
       "      <th>...</th>\n",
       "      <th>concavity_worst</th>\n",
       "      <th>concave_points_mean</th>\n",
       "      <th>concave_points_sd_error</th>\n",
       "      <th>concave_points_worst</th>\n",
       "      <th>symmetry_mean</th>\n",
       "      <th>symmetry_sd_error</th>\n",
       "      <th>symmetry_worst</th>\n",
       "      <th>fractal_dimension_mean</th>\n",
       "      <th>fractal_dimension_sd_error</th>\n",
       "      <th>fractal_dimension_worst</th>\n",
       "    </tr>\n",
       "  </thead>\n",
       "  <tbody>\n",
       "    <tr>\n",
       "      <th>count</th>\n",
       "      <td>5.690000e+02</td>\n",
       "      <td>569.000000</td>\n",
       "      <td>569.000000</td>\n",
       "      <td>569.000000</td>\n",
       "      <td>569.000000</td>\n",
       "      <td>569.000000</td>\n",
       "      <td>569.000000</td>\n",
       "      <td>569.000000</td>\n",
       "      <td>569.000000</td>\n",
       "      <td>569.000000</td>\n",
       "      <td>...</td>\n",
       "      <td>569.000000</td>\n",
       "      <td>569.000000</td>\n",
       "      <td>569.000000</td>\n",
       "      <td>569.000000</td>\n",
       "      <td>569.000000</td>\n",
       "      <td>569.000000</td>\n",
       "      <td>569.000000</td>\n",
       "      <td>569.000000</td>\n",
       "      <td>569.000000</td>\n",
       "      <td>569.000000</td>\n",
       "    </tr>\n",
       "    <tr>\n",
       "      <th>mean</th>\n",
       "      <td>3.037183e+07</td>\n",
       "      <td>14.127292</td>\n",
       "      <td>19.289649</td>\n",
       "      <td>91.969033</td>\n",
       "      <td>654.889104</td>\n",
       "      <td>0.096360</td>\n",
       "      <td>0.104341</td>\n",
       "      <td>0.088799</td>\n",
       "      <td>0.048919</td>\n",
       "      <td>0.181162</td>\n",
       "      <td>...</td>\n",
       "      <td>16.269190</td>\n",
       "      <td>25.677223</td>\n",
       "      <td>107.261213</td>\n",
       "      <td>880.583128</td>\n",
       "      <td>0.132369</td>\n",
       "      <td>0.254265</td>\n",
       "      <td>0.272188</td>\n",
       "      <td>0.114606</td>\n",
       "      <td>0.290076</td>\n",
       "      <td>0.083946</td>\n",
       "    </tr>\n",
       "    <tr>\n",
       "      <th>std</th>\n",
       "      <td>1.250206e+08</td>\n",
       "      <td>3.524049</td>\n",
       "      <td>4.301036</td>\n",
       "      <td>24.298981</td>\n",
       "      <td>351.914129</td>\n",
       "      <td>0.014064</td>\n",
       "      <td>0.052813</td>\n",
       "      <td>0.079720</td>\n",
       "      <td>0.038803</td>\n",
       "      <td>0.027414</td>\n",
       "      <td>...</td>\n",
       "      <td>4.833242</td>\n",
       "      <td>6.146258</td>\n",
       "      <td>33.602542</td>\n",
       "      <td>569.356993</td>\n",
       "      <td>0.022832</td>\n",
       "      <td>0.157336</td>\n",
       "      <td>0.208624</td>\n",
       "      <td>0.065732</td>\n",
       "      <td>0.061867</td>\n",
       "      <td>0.018061</td>\n",
       "    </tr>\n",
       "    <tr>\n",
       "      <th>min</th>\n",
       "      <td>8.670000e+03</td>\n",
       "      <td>6.981000</td>\n",
       "      <td>9.710000</td>\n",
       "      <td>43.790000</td>\n",
       "      <td>143.500000</td>\n",
       "      <td>0.052630</td>\n",
       "      <td>0.019380</td>\n",
       "      <td>0.000000</td>\n",
       "      <td>0.000000</td>\n",
       "      <td>0.106000</td>\n",
       "      <td>...</td>\n",
       "      <td>7.930000</td>\n",
       "      <td>12.020000</td>\n",
       "      <td>50.410000</td>\n",
       "      <td>185.200000</td>\n",
       "      <td>0.071170</td>\n",
       "      <td>0.027290</td>\n",
       "      <td>0.000000</td>\n",
       "      <td>0.000000</td>\n",
       "      <td>0.156500</td>\n",
       "      <td>0.055040</td>\n",
       "    </tr>\n",
       "    <tr>\n",
       "      <th>25%</th>\n",
       "      <td>8.692180e+05</td>\n",
       "      <td>11.700000</td>\n",
       "      <td>16.170000</td>\n",
       "      <td>75.170000</td>\n",
       "      <td>420.300000</td>\n",
       "      <td>0.086370</td>\n",
       "      <td>0.064920</td>\n",
       "      <td>0.029560</td>\n",
       "      <td>0.020310</td>\n",
       "      <td>0.161900</td>\n",
       "      <td>...</td>\n",
       "      <td>13.010000</td>\n",
       "      <td>21.080000</td>\n",
       "      <td>84.110000</td>\n",
       "      <td>515.300000</td>\n",
       "      <td>0.116600</td>\n",
       "      <td>0.147200</td>\n",
       "      <td>0.114500</td>\n",
       "      <td>0.064930</td>\n",
       "      <td>0.250400</td>\n",
       "      <td>0.071460</td>\n",
       "    </tr>\n",
       "    <tr>\n",
       "      <th>50%</th>\n",
       "      <td>9.060240e+05</td>\n",
       "      <td>13.370000</td>\n",
       "      <td>18.840000</td>\n",
       "      <td>86.240000</td>\n",
       "      <td>551.100000</td>\n",
       "      <td>0.095870</td>\n",
       "      <td>0.092630</td>\n",
       "      <td>0.061540</td>\n",
       "      <td>0.033500</td>\n",
       "      <td>0.179200</td>\n",
       "      <td>...</td>\n",
       "      <td>14.970000</td>\n",
       "      <td>25.410000</td>\n",
       "      <td>97.660000</td>\n",
       "      <td>686.500000</td>\n",
       "      <td>0.131300</td>\n",
       "      <td>0.211900</td>\n",
       "      <td>0.226700</td>\n",
       "      <td>0.099930</td>\n",
       "      <td>0.282200</td>\n",
       "      <td>0.080040</td>\n",
       "    </tr>\n",
       "    <tr>\n",
       "      <th>75%</th>\n",
       "      <td>8.813129e+06</td>\n",
       "      <td>15.780000</td>\n",
       "      <td>21.800000</td>\n",
       "      <td>104.100000</td>\n",
       "      <td>782.700000</td>\n",
       "      <td>0.105300</td>\n",
       "      <td>0.130400</td>\n",
       "      <td>0.130700</td>\n",
       "      <td>0.074000</td>\n",
       "      <td>0.195700</td>\n",
       "      <td>...</td>\n",
       "      <td>18.790000</td>\n",
       "      <td>29.720000</td>\n",
       "      <td>125.400000</td>\n",
       "      <td>1084.000000</td>\n",
       "      <td>0.146000</td>\n",
       "      <td>0.339100</td>\n",
       "      <td>0.382900</td>\n",
       "      <td>0.161400</td>\n",
       "      <td>0.317900</td>\n",
       "      <td>0.092080</td>\n",
       "    </tr>\n",
       "    <tr>\n",
       "      <th>max</th>\n",
       "      <td>9.113205e+08</td>\n",
       "      <td>28.110000</td>\n",
       "      <td>39.280000</td>\n",
       "      <td>188.500000</td>\n",
       "      <td>2501.000000</td>\n",
       "      <td>0.163400</td>\n",
       "      <td>0.345400</td>\n",
       "      <td>0.426800</td>\n",
       "      <td>0.201200</td>\n",
       "      <td>0.304000</td>\n",
       "      <td>...</td>\n",
       "      <td>36.040000</td>\n",
       "      <td>49.540000</td>\n",
       "      <td>251.200000</td>\n",
       "      <td>4254.000000</td>\n",
       "      <td>0.222600</td>\n",
       "      <td>1.058000</td>\n",
       "      <td>1.252000</td>\n",
       "      <td>0.291000</td>\n",
       "      <td>0.663800</td>\n",
       "      <td>0.207500</td>\n",
       "    </tr>\n",
       "  </tbody>\n",
       "</table>\n",
       "<p>8 rows × 31 columns</p>\n",
       "</div>"
      ],
      "text/plain": [
       "                 ID  radius_mean  radius_sd_error  radius_worst  texture_mean  \\\n",
       "count  5.690000e+02   569.000000       569.000000    569.000000    569.000000   \n",
       "mean   3.037183e+07    14.127292        19.289649     91.969033    654.889104   \n",
       "std    1.250206e+08     3.524049         4.301036     24.298981    351.914129   \n",
       "min    8.670000e+03     6.981000         9.710000     43.790000    143.500000   \n",
       "25%    8.692180e+05    11.700000        16.170000     75.170000    420.300000   \n",
       "50%    9.060240e+05    13.370000        18.840000     86.240000    551.100000   \n",
       "75%    8.813129e+06    15.780000        21.800000    104.100000    782.700000   \n",
       "max    9.113205e+08    28.110000        39.280000    188.500000   2501.000000   \n",
       "\n",
       "       texture_sd_error  texture_worst  perimeter_mean  perimeter_sd_error  \\\n",
       "count        569.000000     569.000000      569.000000          569.000000   \n",
       "mean           0.096360       0.104341        0.088799            0.048919   \n",
       "std            0.014064       0.052813        0.079720            0.038803   \n",
       "min            0.052630       0.019380        0.000000            0.000000   \n",
       "25%            0.086370       0.064920        0.029560            0.020310   \n",
       "50%            0.095870       0.092630        0.061540            0.033500   \n",
       "75%            0.105300       0.130400        0.130700            0.074000   \n",
       "max            0.163400       0.345400        0.426800            0.201200   \n",
       "\n",
       "       perimeter_worst           ...             concavity_worst  \\\n",
       "count       569.000000           ...                  569.000000   \n",
       "mean          0.181162           ...                   16.269190   \n",
       "std           0.027414           ...                    4.833242   \n",
       "min           0.106000           ...                    7.930000   \n",
       "25%           0.161900           ...                   13.010000   \n",
       "50%           0.179200           ...                   14.970000   \n",
       "75%           0.195700           ...                   18.790000   \n",
       "max           0.304000           ...                   36.040000   \n",
       "\n",
       "       concave_points_mean  concave_points_sd_error  concave_points_worst  \\\n",
       "count           569.000000               569.000000            569.000000   \n",
       "mean             25.677223               107.261213            880.583128   \n",
       "std               6.146258                33.602542            569.356993   \n",
       "min              12.020000                50.410000            185.200000   \n",
       "25%              21.080000                84.110000            515.300000   \n",
       "50%              25.410000                97.660000            686.500000   \n",
       "75%              29.720000               125.400000           1084.000000   \n",
       "max              49.540000               251.200000           4254.000000   \n",
       "\n",
       "       symmetry_mean  symmetry_sd_error  symmetry_worst  \\\n",
       "count     569.000000         569.000000      569.000000   \n",
       "mean        0.132369           0.254265        0.272188   \n",
       "std         0.022832           0.157336        0.208624   \n",
       "min         0.071170           0.027290        0.000000   \n",
       "25%         0.116600           0.147200        0.114500   \n",
       "50%         0.131300           0.211900        0.226700   \n",
       "75%         0.146000           0.339100        0.382900   \n",
       "max         0.222600           1.058000        1.252000   \n",
       "\n",
       "       fractal_dimension_mean  fractal_dimension_sd_error  \\\n",
       "count              569.000000                  569.000000   \n",
       "mean                 0.114606                    0.290076   \n",
       "std                  0.065732                    0.061867   \n",
       "min                  0.000000                    0.156500   \n",
       "25%                  0.064930                    0.250400   \n",
       "50%                  0.099930                    0.282200   \n",
       "75%                  0.161400                    0.317900   \n",
       "max                  0.291000                    0.663800   \n",
       "\n",
       "       fractal_dimension_worst  \n",
       "count               569.000000  \n",
       "mean                  0.083946  \n",
       "std                   0.018061  \n",
       "min                   0.055040  \n",
       "25%                   0.071460  \n",
       "50%                   0.080040  \n",
       "75%                   0.092080  \n",
       "max                   0.207500  \n",
       "\n",
       "[8 rows x 31 columns]"
      ]
     },
     "execution_count": 5,
     "metadata": {},
     "output_type": "execute_result"
    }
   ],
   "source": [
    "bc.describe()"
   ]
  },
  {
   "cell_type": "markdown",
   "metadata": {},
   "source": [
    "...there are a few things that will help us analyze this dataset. First, we should randomize our dataset since we can't assume it's already randomized. (In fact, it actually isn't well randomized.) Also, we separate the diagnosss and convert them to binary variables. And, separate the predictor variables (features), while dropping the ID column (so it's not used in our models later):"
   ]
  },
  {
   "cell_type": "code",
   "execution_count": 6,
   "metadata": {},
   "outputs": [
    {
     "name": "stdout",
     "output_type": "stream",
     "text": [
      "Dataframe shape: 569 rows, 1 columns\n",
      "\n",
      "Check first few rows of bc_Y (outcome variable):\n",
      "   diagnosis_M\n",
      "0            1\n",
      "1            0\n",
      "2            0\n",
      "3            0\n",
      "4            0\n",
      "Dataframe shape: 569 rows, 30 columns\n",
      "\n",
      "Check first few rows of  of bc_X (input variables):\n"
     ]
    },
    {
     "data": {
      "text/html": [
       "<div>\n",
       "<style scoped>\n",
       "    .dataframe tbody tr th:only-of-type {\n",
       "        vertical-align: middle;\n",
       "    }\n",
       "\n",
       "    .dataframe tbody tr th {\n",
       "        vertical-align: top;\n",
       "    }\n",
       "\n",
       "    .dataframe thead th {\n",
       "        text-align: right;\n",
       "    }\n",
       "</style>\n",
       "<table border=\"1\" class=\"dataframe\">\n",
       "  <thead>\n",
       "    <tr style=\"text-align: right;\">\n",
       "      <th></th>\n",
       "      <th>radius_mean</th>\n",
       "      <th>radius_sd_error</th>\n",
       "      <th>radius_worst</th>\n",
       "      <th>texture_mean</th>\n",
       "      <th>texture_sd_error</th>\n",
       "      <th>texture_worst</th>\n",
       "      <th>perimeter_mean</th>\n",
       "      <th>perimeter_sd_error</th>\n",
       "      <th>perimeter_worst</th>\n",
       "      <th>area_mean</th>\n",
       "      <th>...</th>\n",
       "      <th>concavity_worst</th>\n",
       "      <th>concave_points_mean</th>\n",
       "      <th>concave_points_sd_error</th>\n",
       "      <th>concave_points_worst</th>\n",
       "      <th>symmetry_mean</th>\n",
       "      <th>symmetry_sd_error</th>\n",
       "      <th>symmetry_worst</th>\n",
       "      <th>fractal_dimension_mean</th>\n",
       "      <th>fractal_dimension_sd_error</th>\n",
       "      <th>fractal_dimension_worst</th>\n",
       "    </tr>\n",
       "  </thead>\n",
       "  <tbody>\n",
       "    <tr>\n",
       "      <th>0</th>\n",
       "      <td>15.30</td>\n",
       "      <td>25.27</td>\n",
       "      <td>102.40</td>\n",
       "      <td>732.4</td>\n",
       "      <td>0.10820</td>\n",
       "      <td>0.16970</td>\n",
       "      <td>0.16830</td>\n",
       "      <td>0.08751</td>\n",
       "      <td>0.1926</td>\n",
       "      <td>0.06540</td>\n",
       "      <td>...</td>\n",
       "      <td>20.27</td>\n",
       "      <td>36.71</td>\n",
       "      <td>149.30</td>\n",
       "      <td>1269.0</td>\n",
       "      <td>0.1641</td>\n",
       "      <td>0.6110</td>\n",
       "      <td>0.63350</td>\n",
       "      <td>0.20240</td>\n",
       "      <td>0.4027</td>\n",
       "      <td>0.09876</td>\n",
       "    </tr>\n",
       "    <tr>\n",
       "      <th>1</th>\n",
       "      <td>12.34</td>\n",
       "      <td>22.22</td>\n",
       "      <td>79.85</td>\n",
       "      <td>464.5</td>\n",
       "      <td>0.10120</td>\n",
       "      <td>0.10150</td>\n",
       "      <td>0.05370</td>\n",
       "      <td>0.02822</td>\n",
       "      <td>0.1551</td>\n",
       "      <td>0.06761</td>\n",
       "      <td>...</td>\n",
       "      <td>13.58</td>\n",
       "      <td>28.68</td>\n",
       "      <td>87.36</td>\n",
       "      <td>553.0</td>\n",
       "      <td>0.1452</td>\n",
       "      <td>0.2338</td>\n",
       "      <td>0.16880</td>\n",
       "      <td>0.08194</td>\n",
       "      <td>0.2268</td>\n",
       "      <td>0.09082</td>\n",
       "    </tr>\n",
       "    <tr>\n",
       "      <th>2</th>\n",
       "      <td>14.50</td>\n",
       "      <td>10.89</td>\n",
       "      <td>94.28</td>\n",
       "      <td>640.7</td>\n",
       "      <td>0.11010</td>\n",
       "      <td>0.10990</td>\n",
       "      <td>0.08842</td>\n",
       "      <td>0.05778</td>\n",
       "      <td>0.1856</td>\n",
       "      <td>0.06402</td>\n",
       "      <td>...</td>\n",
       "      <td>15.70</td>\n",
       "      <td>15.98</td>\n",
       "      <td>102.80</td>\n",
       "      <td>745.5</td>\n",
       "      <td>0.1313</td>\n",
       "      <td>0.1788</td>\n",
       "      <td>0.25600</td>\n",
       "      <td>0.12210</td>\n",
       "      <td>0.2889</td>\n",
       "      <td>0.08006</td>\n",
       "    </tr>\n",
       "    <tr>\n",
       "      <th>3</th>\n",
       "      <td>13.30</td>\n",
       "      <td>21.57</td>\n",
       "      <td>85.24</td>\n",
       "      <td>546.1</td>\n",
       "      <td>0.08582</td>\n",
       "      <td>0.06373</td>\n",
       "      <td>0.03344</td>\n",
       "      <td>0.02424</td>\n",
       "      <td>0.1815</td>\n",
       "      <td>0.05696</td>\n",
       "      <td>...</td>\n",
       "      <td>14.20</td>\n",
       "      <td>29.20</td>\n",
       "      <td>92.94</td>\n",
       "      <td>621.2</td>\n",
       "      <td>0.1140</td>\n",
       "      <td>0.1667</td>\n",
       "      <td>0.12120</td>\n",
       "      <td>0.05614</td>\n",
       "      <td>0.2637</td>\n",
       "      <td>0.06658</td>\n",
       "    </tr>\n",
       "    <tr>\n",
       "      <th>4</th>\n",
       "      <td>10.82</td>\n",
       "      <td>24.21</td>\n",
       "      <td>68.89</td>\n",
       "      <td>361.6</td>\n",
       "      <td>0.08192</td>\n",
       "      <td>0.06602</td>\n",
       "      <td>0.01548</td>\n",
       "      <td>0.00816</td>\n",
       "      <td>0.1976</td>\n",
       "      <td>0.06328</td>\n",
       "      <td>...</td>\n",
       "      <td>13.03</td>\n",
       "      <td>31.45</td>\n",
       "      <td>83.90</td>\n",
       "      <td>505.6</td>\n",
       "      <td>0.1204</td>\n",
       "      <td>0.1633</td>\n",
       "      <td>0.06194</td>\n",
       "      <td>0.03264</td>\n",
       "      <td>0.3059</td>\n",
       "      <td>0.07626</td>\n",
       "    </tr>\n",
       "  </tbody>\n",
       "</table>\n",
       "<p>5 rows × 30 columns</p>\n",
       "</div>"
      ],
      "text/plain": [
       "   radius_mean  radius_sd_error  radius_worst  texture_mean  texture_sd_error  \\\n",
       "0        15.30            25.27        102.40         732.4           0.10820   \n",
       "1        12.34            22.22         79.85         464.5           0.10120   \n",
       "2        14.50            10.89         94.28         640.7           0.11010   \n",
       "3        13.30            21.57         85.24         546.1           0.08582   \n",
       "4        10.82            24.21         68.89         361.6           0.08192   \n",
       "\n",
       "   texture_worst  perimeter_mean  perimeter_sd_error  perimeter_worst  \\\n",
       "0        0.16970         0.16830             0.08751           0.1926   \n",
       "1        0.10150         0.05370             0.02822           0.1551   \n",
       "2        0.10990         0.08842             0.05778           0.1856   \n",
       "3        0.06373         0.03344             0.02424           0.1815   \n",
       "4        0.06602         0.01548             0.00816           0.1976   \n",
       "\n",
       "   area_mean           ...             concavity_worst  concave_points_mean  \\\n",
       "0    0.06540           ...                       20.27                36.71   \n",
       "1    0.06761           ...                       13.58                28.68   \n",
       "2    0.06402           ...                       15.70                15.98   \n",
       "3    0.05696           ...                       14.20                29.20   \n",
       "4    0.06328           ...                       13.03                31.45   \n",
       "\n",
       "   concave_points_sd_error  concave_points_worst  symmetry_mean  \\\n",
       "0                   149.30                1269.0         0.1641   \n",
       "1                    87.36                 553.0         0.1452   \n",
       "2                   102.80                 745.5         0.1313   \n",
       "3                    92.94                 621.2         0.1140   \n",
       "4                    83.90                 505.6         0.1204   \n",
       "\n",
       "   symmetry_sd_error  symmetry_worst  fractal_dimension_mean  \\\n",
       "0             0.6110         0.63350                 0.20240   \n",
       "1             0.2338         0.16880                 0.08194   \n",
       "2             0.1788         0.25600                 0.12210   \n",
       "3             0.1667         0.12120                 0.05614   \n",
       "4             0.1633         0.06194                 0.03264   \n",
       "\n",
       "   fractal_dimension_sd_error  fractal_dimension_worst  \n",
       "0                      0.4027                  0.09876  \n",
       "1                      0.2268                  0.09082  \n",
       "2                      0.2889                  0.08006  \n",
       "3                      0.2637                  0.06658  \n",
       "4                      0.3059                  0.07626  \n",
       "\n",
       "[5 rows x 30 columns]"
      ]
     },
     "execution_count": 6,
     "metadata": {},
     "output_type": "execute_result"
    }
   ],
   "source": [
    "bc=bc.sample(frac=1,random_state=5).reset_index(drop=True)\n",
    "bc_Y = pd.get_dummies(bc.diagnosis)\n",
    "bc_Y = bc_Y.drop('B',1)\n",
    "bc_Y.columns = ['diagnosis_M',]\n",
    "\n",
    "bc_X = bc.drop('diagnosis', 1).drop('ID', 1)\n",
    "\n",
    "\n",
    "print(\"Dataframe shape: {} rows, {} columns\\n\".format(bc_Y.shape[0],bc_Y.shape[1]))\n",
    "print(\"Check first few rows of bc_Y (outcome variable):\")\n",
    "print(bc_Y.head(5))\n",
    "print(\"Dataframe shape: {} rows, {} columns\\n\".format(bc_X.shape[0],bc_X.shape[1]))\n",
    "print(\"Check first few rows of  of bc_X (input variables):\")\n",
    "bc_X.head(5)"
   ]
  },
  {
   "cell_type": "markdown",
   "metadata": {},
   "source": [
    "Next, it will help us if we normalize the variables so we can later compare their weights (or variable coefficients, in a linear regression) to see which are more important. We can quickly see a summary of the data with the panda's describe function, and check that they now range from 0 to 1:"
   ]
  },
  {
   "cell_type": "code",
   "execution_count": 7,
   "metadata": {},
   "outputs": [
    {
     "data": {
      "text/html": [
       "<div>\n",
       "<style scoped>\n",
       "    .dataframe tbody tr th:only-of-type {\n",
       "        vertical-align: middle;\n",
       "    }\n",
       "\n",
       "    .dataframe tbody tr th {\n",
       "        vertical-align: top;\n",
       "    }\n",
       "\n",
       "    .dataframe thead th {\n",
       "        text-align: right;\n",
       "    }\n",
       "</style>\n",
       "<table border=\"1\" class=\"dataframe\">\n",
       "  <thead>\n",
       "    <tr style=\"text-align: right;\">\n",
       "      <th></th>\n",
       "      <th>radius_mean</th>\n",
       "      <th>radius_sd_error</th>\n",
       "      <th>radius_worst</th>\n",
       "      <th>texture_mean</th>\n",
       "      <th>texture_sd_error</th>\n",
       "      <th>texture_worst</th>\n",
       "      <th>perimeter_mean</th>\n",
       "      <th>perimeter_sd_error</th>\n",
       "      <th>perimeter_worst</th>\n",
       "      <th>area_mean</th>\n",
       "      <th>...</th>\n",
       "      <th>concavity_worst</th>\n",
       "      <th>concave_points_mean</th>\n",
       "      <th>concave_points_sd_error</th>\n",
       "      <th>concave_points_worst</th>\n",
       "      <th>symmetry_mean</th>\n",
       "      <th>symmetry_sd_error</th>\n",
       "      <th>symmetry_worst</th>\n",
       "      <th>fractal_dimension_mean</th>\n",
       "      <th>fractal_dimension_sd_error</th>\n",
       "      <th>fractal_dimension_worst</th>\n",
       "    </tr>\n",
       "  </thead>\n",
       "  <tbody>\n",
       "    <tr>\n",
       "      <th>count</th>\n",
       "      <td>569.000000</td>\n",
       "      <td>569.000000</td>\n",
       "      <td>569.000000</td>\n",
       "      <td>569.000000</td>\n",
       "      <td>569.000000</td>\n",
       "      <td>569.000000</td>\n",
       "      <td>569.000000</td>\n",
       "      <td>569.000000</td>\n",
       "      <td>569.000000</td>\n",
       "      <td>569.000000</td>\n",
       "      <td>...</td>\n",
       "      <td>569.000000</td>\n",
       "      <td>569.000000</td>\n",
       "      <td>569.000000</td>\n",
       "      <td>569.000000</td>\n",
       "      <td>569.000000</td>\n",
       "      <td>569.000000</td>\n",
       "      <td>569.000000</td>\n",
       "      <td>569.000000</td>\n",
       "      <td>569.000000</td>\n",
       "      <td>569.000000</td>\n",
       "    </tr>\n",
       "    <tr>\n",
       "      <th>mean</th>\n",
       "      <td>0.338222</td>\n",
       "      <td>0.323965</td>\n",
       "      <td>0.332935</td>\n",
       "      <td>0.216920</td>\n",
       "      <td>0.394785</td>\n",
       "      <td>0.260601</td>\n",
       "      <td>0.208058</td>\n",
       "      <td>0.243137</td>\n",
       "      <td>0.379605</td>\n",
       "      <td>0.270379</td>\n",
       "      <td>...</td>\n",
       "      <td>0.296663</td>\n",
       "      <td>0.363998</td>\n",
       "      <td>0.283138</td>\n",
       "      <td>0.170906</td>\n",
       "      <td>0.404138</td>\n",
       "      <td>0.220212</td>\n",
       "      <td>0.217403</td>\n",
       "      <td>0.393836</td>\n",
       "      <td>0.263307</td>\n",
       "      <td>0.189596</td>\n",
       "    </tr>\n",
       "    <tr>\n",
       "      <th>std</th>\n",
       "      <td>0.166787</td>\n",
       "      <td>0.145453</td>\n",
       "      <td>0.167915</td>\n",
       "      <td>0.149274</td>\n",
       "      <td>0.126967</td>\n",
       "      <td>0.161992</td>\n",
       "      <td>0.186785</td>\n",
       "      <td>0.192857</td>\n",
       "      <td>0.138456</td>\n",
       "      <td>0.148702</td>\n",
       "      <td>...</td>\n",
       "      <td>0.171940</td>\n",
       "      <td>0.163813</td>\n",
       "      <td>0.167352</td>\n",
       "      <td>0.139932</td>\n",
       "      <td>0.150779</td>\n",
       "      <td>0.152649</td>\n",
       "      <td>0.166633</td>\n",
       "      <td>0.225884</td>\n",
       "      <td>0.121954</td>\n",
       "      <td>0.118466</td>\n",
       "    </tr>\n",
       "    <tr>\n",
       "      <th>min</th>\n",
       "      <td>0.000000</td>\n",
       "      <td>0.000000</td>\n",
       "      <td>0.000000</td>\n",
       "      <td>0.000000</td>\n",
       "      <td>0.000000</td>\n",
       "      <td>0.000000</td>\n",
       "      <td>0.000000</td>\n",
       "      <td>0.000000</td>\n",
       "      <td>0.000000</td>\n",
       "      <td>0.000000</td>\n",
       "      <td>...</td>\n",
       "      <td>0.000000</td>\n",
       "      <td>0.000000</td>\n",
       "      <td>0.000000</td>\n",
       "      <td>0.000000</td>\n",
       "      <td>0.000000</td>\n",
       "      <td>0.000000</td>\n",
       "      <td>0.000000</td>\n",
       "      <td>0.000000</td>\n",
       "      <td>0.000000</td>\n",
       "      <td>0.000000</td>\n",
       "    </tr>\n",
       "    <tr>\n",
       "      <th>25%</th>\n",
       "      <td>0.223342</td>\n",
       "      <td>0.218465</td>\n",
       "      <td>0.216847</td>\n",
       "      <td>0.117413</td>\n",
       "      <td>0.304595</td>\n",
       "      <td>0.139685</td>\n",
       "      <td>0.069260</td>\n",
       "      <td>0.100944</td>\n",
       "      <td>0.282323</td>\n",
       "      <td>0.163016</td>\n",
       "      <td>...</td>\n",
       "      <td>0.180719</td>\n",
       "      <td>0.241471</td>\n",
       "      <td>0.167837</td>\n",
       "      <td>0.081130</td>\n",
       "      <td>0.300007</td>\n",
       "      <td>0.116337</td>\n",
       "      <td>0.091454</td>\n",
       "      <td>0.223127</td>\n",
       "      <td>0.185098</td>\n",
       "      <td>0.107700</td>\n",
       "    </tr>\n",
       "    <tr>\n",
       "      <th>50%</th>\n",
       "      <td>0.302381</td>\n",
       "      <td>0.308759</td>\n",
       "      <td>0.293345</td>\n",
       "      <td>0.172895</td>\n",
       "      <td>0.390358</td>\n",
       "      <td>0.224679</td>\n",
       "      <td>0.144189</td>\n",
       "      <td>0.166501</td>\n",
       "      <td>0.369697</td>\n",
       "      <td>0.243892</td>\n",
       "      <td>...</td>\n",
       "      <td>0.250445</td>\n",
       "      <td>0.356876</td>\n",
       "      <td>0.235320</td>\n",
       "      <td>0.123206</td>\n",
       "      <td>0.397081</td>\n",
       "      <td>0.179110</td>\n",
       "      <td>0.181070</td>\n",
       "      <td>0.343402</td>\n",
       "      <td>0.247782</td>\n",
       "      <td>0.163977</td>\n",
       "    </tr>\n",
       "    <tr>\n",
       "      <th>75%</th>\n",
       "      <td>0.416442</td>\n",
       "      <td>0.408860</td>\n",
       "      <td>0.416765</td>\n",
       "      <td>0.271135</td>\n",
       "      <td>0.475490</td>\n",
       "      <td>0.340531</td>\n",
       "      <td>0.306232</td>\n",
       "      <td>0.367793</td>\n",
       "      <td>0.453030</td>\n",
       "      <td>0.340354</td>\n",
       "      <td>...</td>\n",
       "      <td>0.386339</td>\n",
       "      <td>0.471748</td>\n",
       "      <td>0.373475</td>\n",
       "      <td>0.220901</td>\n",
       "      <td>0.494156</td>\n",
       "      <td>0.302520</td>\n",
       "      <td>0.305831</td>\n",
       "      <td>0.554639</td>\n",
       "      <td>0.318155</td>\n",
       "      <td>0.242949</td>\n",
       "    </tr>\n",
       "    <tr>\n",
       "      <th>max</th>\n",
       "      <td>1.000000</td>\n",
       "      <td>1.000000</td>\n",
       "      <td>1.000000</td>\n",
       "      <td>1.000000</td>\n",
       "      <td>1.000000</td>\n",
       "      <td>1.000000</td>\n",
       "      <td>1.000000</td>\n",
       "      <td>1.000000</td>\n",
       "      <td>1.000000</td>\n",
       "      <td>1.000000</td>\n",
       "      <td>...</td>\n",
       "      <td>1.000000</td>\n",
       "      <td>1.000000</td>\n",
       "      <td>1.000000</td>\n",
       "      <td>1.000000</td>\n",
       "      <td>1.000000</td>\n",
       "      <td>1.000000</td>\n",
       "      <td>1.000000</td>\n",
       "      <td>1.000000</td>\n",
       "      <td>1.000000</td>\n",
       "      <td>1.000000</td>\n",
       "    </tr>\n",
       "  </tbody>\n",
       "</table>\n",
       "<p>8 rows × 30 columns</p>\n",
       "</div>"
      ],
      "text/plain": [
       "       radius_mean  radius_sd_error  radius_worst  texture_mean  \\\n",
       "count   569.000000       569.000000    569.000000    569.000000   \n",
       "mean      0.338222         0.323965      0.332935      0.216920   \n",
       "std       0.166787         0.145453      0.167915      0.149274   \n",
       "min       0.000000         0.000000      0.000000      0.000000   \n",
       "25%       0.223342         0.218465      0.216847      0.117413   \n",
       "50%       0.302381         0.308759      0.293345      0.172895   \n",
       "75%       0.416442         0.408860      0.416765      0.271135   \n",
       "max       1.000000         1.000000      1.000000      1.000000   \n",
       "\n",
       "       texture_sd_error  texture_worst  perimeter_mean  perimeter_sd_error  \\\n",
       "count        569.000000     569.000000      569.000000          569.000000   \n",
       "mean           0.394785       0.260601        0.208058            0.243137   \n",
       "std            0.126967       0.161992        0.186785            0.192857   \n",
       "min            0.000000       0.000000        0.000000            0.000000   \n",
       "25%            0.304595       0.139685        0.069260            0.100944   \n",
       "50%            0.390358       0.224679        0.144189            0.166501   \n",
       "75%            0.475490       0.340531        0.306232            0.367793   \n",
       "max            1.000000       1.000000        1.000000            1.000000   \n",
       "\n",
       "       perimeter_worst   area_mean           ...             concavity_worst  \\\n",
       "count       569.000000  569.000000           ...                  569.000000   \n",
       "mean          0.379605    0.270379           ...                    0.296663   \n",
       "std           0.138456    0.148702           ...                    0.171940   \n",
       "min           0.000000    0.000000           ...                    0.000000   \n",
       "25%           0.282323    0.163016           ...                    0.180719   \n",
       "50%           0.369697    0.243892           ...                    0.250445   \n",
       "75%           0.453030    0.340354           ...                    0.386339   \n",
       "max           1.000000    1.000000           ...                    1.000000   \n",
       "\n",
       "       concave_points_mean  concave_points_sd_error  concave_points_worst  \\\n",
       "count           569.000000               569.000000            569.000000   \n",
       "mean              0.363998                 0.283138              0.170906   \n",
       "std               0.163813                 0.167352              0.139932   \n",
       "min               0.000000                 0.000000              0.000000   \n",
       "25%               0.241471                 0.167837              0.081130   \n",
       "50%               0.356876                 0.235320              0.123206   \n",
       "75%               0.471748                 0.373475              0.220901   \n",
       "max               1.000000                 1.000000              1.000000   \n",
       "\n",
       "       symmetry_mean  symmetry_sd_error  symmetry_worst  \\\n",
       "count     569.000000         569.000000      569.000000   \n",
       "mean        0.404138           0.220212        0.217403   \n",
       "std         0.150779           0.152649        0.166633   \n",
       "min         0.000000           0.000000        0.000000   \n",
       "25%         0.300007           0.116337        0.091454   \n",
       "50%         0.397081           0.179110        0.181070   \n",
       "75%         0.494156           0.302520        0.305831   \n",
       "max         1.000000           1.000000        1.000000   \n",
       "\n",
       "       fractal_dimension_mean  fractal_dimension_sd_error  \\\n",
       "count              569.000000                  569.000000   \n",
       "mean                 0.393836                    0.263307   \n",
       "std                  0.225884                    0.121954   \n",
       "min                  0.000000                    0.000000   \n",
       "25%                  0.223127                    0.185098   \n",
       "50%                  0.343402                    0.247782   \n",
       "75%                  0.554639                    0.318155   \n",
       "max                  1.000000                    1.000000   \n",
       "\n",
       "       fractal_dimension_worst  \n",
       "count               569.000000  \n",
       "mean                  0.189596  \n",
       "std                   0.118466  \n",
       "min                   0.000000  \n",
       "25%                   0.107700  \n",
       "50%                   0.163977  \n",
       "75%                   0.242949  \n",
       "max                   1.000000  \n",
       "\n",
       "[8 rows x 30 columns]"
      ]
     },
     "execution_count": 7,
     "metadata": {},
     "output_type": "execute_result"
    }
   ],
   "source": [
    "bc_cols = bc_X.columns\n",
    "X = bc_X.values #returns a numpy array\n",
    "min_max_scaler = preprocessing.MinMaxScaler()\n",
    "X_scaled = min_max_scaler.fit_transform(X)\n",
    "X_scaled = pd.DataFrame(X_scaled)\n",
    "X_scaled.columns = bc_cols\n",
    "\n",
    "X_scaled.describe()"
   ]
  },
  {
   "cell_type": "markdown",
   "metadata": {},
   "source": [
    "## Smoothness and Compactness: Mean and Median"
   ]
  },
  {
   "cell_type": "markdown",
   "metadata": {},
   "source": [
    "We can quickly find the compactness' and smoothness' median and mean with panda's built in functions, and compare the  Malignant and Benign sub-populations. We can also get the standard deviations (std) to see if the differences are statistically significant:"
   ]
  },
  {
   "cell_type": "code",
   "execution_count": 8,
   "metadata": {},
   "outputs": [
    {
     "name": "stdout",
     "output_type": "stream",
     "text": [
      "Smoothness[Malig]\tmean: 4.324\tmedian: 3.679\tstd: 2.569\n",
      "Smoothness[Benign]\tmean: 2.000\tmedian: 1.851\tstd: 0.771\n",
      "Smoothness[Malig]\tmean: 0.032\tmedian: 0.029\tstd: 0.018\n",
      "Smoothness[Benign]\tmean: 0.021\tmedian: 0.016\tstd: 0.016\n"
     ]
    }
   ],
   "source": [
    "print (\"Smoothness[Malig]\\tmean: {:.3f}\\tmedian: {:.3f}\\tstd: {:.3f}\".format(bc_X[bc_Y.diagnosis_M==1]['smoothness_mean'].mean(),\n",
    "                                                                   bc_X[bc_Y.diagnosis_M==1]['smoothness_mean'].median(),\n",
    "                                                                   bc_X[bc_Y.diagnosis_M==1]['smoothness_mean'].std()))\n",
    "print (\"Smoothness[Benign]\\tmean: {:.3f}\\tmedian: {:.3f}\\tstd: {:.3f}\".format(bc_X[bc_Y.diagnosis_M==0]['smoothness_mean'].mean(),\n",
    "                                                                   bc_X[bc_Y.diagnosis_M==0]['smoothness_mean'].median(),\n",
    "                                                                   bc_X[bc_Y.diagnosis_M==0]['smoothness_mean'].std()))\n",
    "\n",
    "\n",
    "print (\"Smoothness[Malig]\\tmean: {:.3f}\\tmedian: {:.3f}\\tstd: {:.3f}\".format(bc_X[bc_Y.diagnosis_M==1]['compactness_mean'].mean(),\n",
    "                                                                   bc_X[bc_Y.diagnosis_M==1]['compactness_mean'].median(),\n",
    "                                                                   bc_X[bc_Y.diagnosis_M==1]['compactness_mean'].std()))\n",
    "print (\"Smoothness[Benign]\\tmean: {:.3f}\\tmedian: {:.3f}\\tstd: {:.3f}\".format(bc_X[bc_Y.diagnosis_M==0]['compactness_mean'].mean(),\n",
    "                                                                   bc_X[bc_Y.diagnosis_M==0]['compactness_mean'].median(),\n",
    "                                                                   bc_X[bc_Y.diagnosis_M==0]['compactness_mean'].std()))"
   ]
  },
  {
   "cell_type": "markdown",
   "metadata": {},
   "source": [
    "In this case, seeing whether the differences in the means are statistically significant is too hard to eyeball from just their standard deviations and means. A more accurate way of testing this is with a Student's T-test:"
   ]
  },
  {
   "cell_type": "code",
   "execution_count": 9,
   "metadata": {},
   "outputs": [
    {
     "name": "stdout",
     "output_type": "stream",
     "text": [
      "Smoothness_mean t-test: Ttest_indResult(statistic=15.934158019257902, pvalue=1.6519051758498057e-47)\n",
      "Compactness_mean t-test: Ttest_indResult(statistic=7.297077437448529, pvalue=9.975994654074766e-13)\n"
     ]
    }
   ],
   "source": [
    "malgroup = bc_X[bc_Y.diagnosis_M==1]['smoothness_mean']\n",
    "bengroup = bc_X[bc_Y.diagnosis_M==0]['smoothness_mean']\n",
    "\n",
    "print(\"Smoothness_mean t-test: {}\".format(ttest_ind(malgroup.values, bengroup.values)))\n",
    "\n",
    "malgroup = bc_X[bc_Y.diagnosis_M==1]['compactness_mean']\n",
    "bengroup = bc_X[bc_Y.diagnosis_M==0]['compactness_mean']\n",
    "\n",
    "print(\"Compactness_mean t-test: {}\".format(ttest_ind(malgroup.values, bengroup.values)))"
   ]
  },
  {
   "cell_type": "markdown",
   "metadata": {},
   "source": [
    "In this case, it turns out that the means for both both Smoothness and Compactness are statistically different from each other (well below a .05 p-value) between Malignant and Benign cells, suggesting that these may be useful predictor variables (features) in a model. It's worth mentioning that the Student's T-test is technically  for comparing populations of similar size or variance. A Welch's t-test is better suited for unequal (or unknown) size/variance, but for our purposes, a Student's t-test should do for this case."
   ]
  },
  {
   "cell_type": "markdown",
   "metadata": {},
   "source": [
    "## Simple Bootstrap Function"
   ]
  },
  {
   "cell_type": "code",
   "execution_count": 10,
   "metadata": {},
   "outputs": [
    {
     "name": "stdout",
     "output_type": "stream",
     "text": [
      "Testing 1k sample bootstrap, from original data.\n",
      "Shape of bootstrapped sample:\t(1000, 32)\n",
      "Shape of input:\t\t\t(569, 32)\n"
     ]
    }
   ],
   "source": [
    "def simple_bootstrap(inputdf,samplesize):\n",
    "    orig_samples = inputdf.shape[0]\n",
    "    return inputdf.iloc[np.random.randint(orig_samples, size=samplesize)]\n",
    "\n",
    "#test\n",
    "print(\"Testing 1k sample bootstrap, from original data.\")\n",
    "print(\"Shape of bootstrapped sample:\\t{}\".format(simple_bootstrap(bc,1000).shape))\n",
    "print(\"Shape of input:\\t\\t\\t{}\".format(bc.shape))\n",
    "\n"
   ]
  },
  {
   "cell_type": "markdown",
   "metadata": {},
   "source": [
    "# Exploratory Analysis"
   ]
  },
  {
   "cell_type": "code",
   "execution_count": 11,
   "metadata": {},
   "outputs": [
    {
     "name": "stdout",
     "output_type": "stream",
     "text": [
      "Malignant cases in dataset:\t212\n",
      "Benign cases in dataset:\t357\n"
     ]
    }
   ],
   "source": [
    "print(\"Malignant cases in dataset:\\t{:.0f}\".format(bc[bc.diagnosis=='M'].shape[0]))\n",
    "print(\"Benign cases in dataset:\\t{:.0f}\".format(bc[bc.diagnosis=='B'].shape[0]))"
   ]
  },
  {
   "cell_type": "markdown",
   "metadata": {},
   "source": [
    "Since there are more benign cases in this dataset than malignant, this would be a good time to use the (above) bootstrap function to balance the ratio of samples so we're comparing apples to apples when looking at their distributions. This will also help normalize the distribution towards a Normal Distribution, which will help highlight features that are strong predictors."
   ]
  },
  {
   "cell_type": "code",
   "execution_count": 12,
   "metadata": {},
   "outputs": [
    {
     "name": "stdout",
     "output_type": "stream",
     "text": [
      "Bootstrapped dataframe: (20000, 32)\n"
     ]
    }
   ],
   "source": [
    "bootstrapsize = 10000\n",
    "bcBoots=simple_bootstrap(bc[bc.diagnosis=='M'],bootstrapsize).append(\n",
    "    simple_bootstrap(bc[bc.diagnosis=='B'],bootstrapsize))\n",
    "print(\"Bootstrapped dataframe: {}\".format(bcBoots.shape))\n",
    "\n",
    "\n"
   ]
  },
  {
   "cell_type": "markdown",
   "metadata": {},
   "source": [
    "A quick scan of overlaid  histograms (M in red, B in green) shows several features that show noteably different distributions between diagnoses:"
   ]
  },
  {
   "cell_type": "code",
   "execution_count": 37,
   "metadata": {},
   "outputs": [
    {
     "name": "stderr",
     "output_type": "stream",
     "text": [
      "/Users/denisvrdoljak/anaconda3/lib/python3.7/site-packages/matplotlib/pyplot.py:514: RuntimeWarning: More than 20 figures have been opened. Figures created through the pyplot interface (`matplotlib.pyplot.figure`) are retained until explicitly closed and may consume too much memory. (To control this warning, see the rcParam `figure.max_open_warning`).\n",
      "  max_open_warning, RuntimeWarning)\n"
     ]
    },
    {
     "data": {
      "image/png": "[encoded data removed]",
      "text/plain": [
       "<Figure size 432x288 with 1 Axes>"
      ]
     },
     "metadata": {
      "needs_background": "light"
     },
     "output_type": "display_data"
    },
    {
     "data": {
      "image/png": "[encoded data removed]",
      "text/plain": [
       "<Figure size 432x288 with 1 Axes>"
      ]
     },
     "metadata": {
      "needs_background": "light"
     },
     "output_type": "display_data"
    },
    {
     "data": {
      "image/png": "[encoded data removed]",
      "text/plain": [
       "<Figure size 432x288 with 1 Axes>"
      ]
     },
     "metadata": {
      "needs_background": "light"
     },
     "output_type": "display_data"
    },
    {
     "data": {
      "image/png": "[encoded data removed]",
      "text/plain": [
       "<Figure size 432x288 with 1 Axes>"
      ]
     },
     "metadata": {
      "needs_background": "light"
     },
     "output_type": "display_data"
    },
    {
     "data": {
      "image/png": "[encoded data removed]",
      "text/plain": [
       "<Figure size 432x288 with 1 Axes>"
      ]
     },
     "metadata": {
      "needs_background": "light"
     },
     "output_type": "display_data"
    },
    {
     "data": {
      "image/png": "[encoded data removed]",
      "text/plain": [
       "<Figure size 432x288 with 1 Axes>"
      ]
     },
     "metadata": {
      "needs_background": "light"
     },
     "output_type": "display_data"
    },
    {
     "data": {
      "image/png": "[encoded data removed]",
      "text/plain": [
       "<Figure size 432x288 with 1 Axes>"
      ]
     },
     "metadata": {
      "needs_background": "light"
     },
     "output_type": "display_data"
    },
    {
     "data": {
      "image/png": "[encoded data removed]",
      "text/plain": [
       "<Figure size 432x288 with 1 Axes>"
      ]
     },
     "metadata": {
      "needs_background": "light"
     },
     "output_type": "display_data"
    },
    {
     "data": {
      "image/png": "[encoded data removed]",
      "text/plain": [
       "<Figure size 432x288 with 1 Axes>"
      ]
     },
     "metadata": {
      "needs_background": "light"
     },
     "output_type": "display_data"
    },
    {
     "data": {
      "image/png": "[encoded data removed]",
      "text/plain": [
       "<Figure size 432x288 with 1 Axes>"
      ]
     },
     "metadata": {
      "needs_background": "light"
     },
     "output_type": "display_data"
    },
    {
     "data": {
      "image/png": "[encoded data removed]",
      "text/plain": [
       "<Figure size 432x288 with 1 Axes>"
      ]
     },
     "metadata": {
      "needs_background": "light"
     },
     "output_type": "display_data"
    },
    {
     "data": {
      "image/png": "[encoded data removed]",
      "text/plain": [
       "<Figure size 432x288 with 1 Axes>"
      ]
     },
     "metadata": {
      "needs_background": "light"
     },
     "output_type": "display_data"
    },
    {
     "data": {
      "image/png": "[encoded data removed]",
      "text/plain": [
       "<Figure size 432x288 with 1 Axes>"
      ]
     },
     "metadata": {
      "needs_background": "light"
     },
     "output_type": "display_data"
    },
    {
     "data": {
      "image/png": "[encoded data removed]",
      "text/plain": [
       "<Figure size 432x288 with 1 Axes>"
      ]
     },
     "metadata": {
      "needs_background": "light"
     },
     "output_type": "display_data"
    },
    {
     "data": {
      "image/png": "[encoded data removed]",
      "text/plain": [
       "<Figure size 432x288 with 1 Axes>"
      ]
     },
     "metadata": {
      "needs_background": "light"
     },
     "output_type": "display_data"
    },
    {
     "data": {
      "image/png": "[encoded data removed]",
      "text/plain": [
       "<Figure size 432x288 with 1 Axes>"
      ]
     },
     "metadata": {
      "needs_background": "light"
     },
     "output_type": "display_data"
    },
    {
     "data": {
      "image/png": "[encoded data removed]",
      "text/plain": [
       "<Figure size 432x288 with 1 Axes>"
      ]
     },
     "metadata": {
      "needs_background": "light"
     },
     "output_type": "display_data"
    },
    {
     "data": {
      "image/png": "[encoded data removed]",
      "text/plain": [
       "<Figure size 432x288 with 1 Axes>"
      ]
     },
     "metadata": {
      "needs_background": "light"
     },
     "output_type": "display_data"
    },
    {
     "data": {
      "image/png": "[encoded data removed]",
      "text/plain": [
       "<Figure size 432x288 with 1 Axes>"
      ]
     },
     "metadata": {
      "needs_background": "light"
     },
     "output_type": "display_data"
    },
    {
     "data": {
      "image/png": "[encoded data removed]",
      "text/plain": [
       "<Figure size 432x288 with 1 Axes>"
      ]
     },
     "metadata": {
      "needs_background": "light"
     },
     "output_type": "display_data"
    },
    {
     "data": {
      "image/png": "[encoded data removed]",
      "text/plain": [
       "<Figure size 432x288 with 1 Axes>"
      ]
     },
     "metadata": {
      "needs_background": "light"
     },
     "output_type": "display_data"
    },
    {
     "data": {
      "image/png": "[encoded data removed]",
      "text/plain": [
       "<Figure size 432x288 with 1 Axes>"
      ]
     },
     "metadata": {
      "needs_background": "light"
     },
     "output_type": "display_data"
    },
    {
     "data": {
      "image/png": "[encoded data removed]",
      "text/plain": [
       "<Figure size 432x288 with 1 Axes>"
      ]
     },
     "metadata": {
      "needs_background": "light"
     },
     "output_type": "display_data"
    },
    {
     "data": {
      "image/png": "[encoded data removed]",
      "text/plain": [
       "<Figure size 432x288 with 1 Axes>"
      ]
     },
     "metadata": {
      "needs_background": "light"
     },
     "output_type": "display_data"
    },
    {
     "data": {
      "image/png": "[encoded data removed]",
      "text/plain": [
       "<Figure size 432x288 with 1 Axes>"
      ]
     },
     "metadata": {
      "needs_background": "light"
     },
     "output_type": "display_data"
    },
    {
     "data": {
      "image/png": "[encoded data removed]",
      "text/plain": [
       "<Figure size 432x288 with 1 Axes>"
      ]
     },
     "metadata": {
      "needs_background": "light"
     },
     "output_type": "display_data"
    },
    {
     "data": {
      "image/png": "[encoded data removed]",
      "text/plain": [
       "<Figure size 432x288 with 1 Axes>"
      ]
     },
     "metadata": {
      "needs_background": "light"
     },
     "output_type": "display_data"
    },
    {
     "data": {
      "image/png": "[encoded data removed]",
      "text/plain": [
       "<Figure size 432x288 with 1 Axes>"
      ]
     },
     "metadata": {
      "needs_background": "light"
     },
     "output_type": "display_data"
    },
    {
     "data": {
      "image/png": "[encoded data removed]",
      "text/plain": [
       "<Figure size 432x288 with 1 Axes>"
      ]
     },
     "metadata": {
      "needs_background": "light"
     },
     "output_type": "display_data"
    },
    {
     "data": {
      "image/png": "[encoded data removed]",
      "text/plain": [
       "<Figure size 432x288 with 1 Axes>"
      ]
     },
     "metadata": {
      "needs_background": "light"
     },
     "output_type": "display_data"
    }
   ],
   "source": [
    "for feature in bcBoots.columns:\n",
    "    if feature in (\"ID\",\"diagnosis\"):\n",
    "        continue\n",
    "    plt.figure()\n",
    "    plt.title(feature)\n",
    "    exec(\"bcBoots[bcBoots.diagnosis=='M'].\"+feature+\".hist( bins=50,color='red',alpha=.5)\")\n",
    "    exec(\"bcBoots[bcBoots.diagnosis=='B'].\"+feature+\".hist( bins=50,color='green',alpha=.5)\")\n",
    "\n",
    "\n",
    "plt.show()"
   ]
  },
  {
   "cell_type": "markdown",
   "metadata": {},
   "source": [
    "The following features show strong differences in distributions between diagnoses:\n",
    "<li>fractal_dimension_mean</li>\n",
    "<li>concave_points_worst</li>\n",
    "<li>concave_points_sd_error</li>\n",
    "<li>perimeter_sd_error</li>\n",
    "<li>perimeter_mean</li>"
   ]
  },
  {
   "cell_type": "code",
   "execution_count": 38,
   "metadata": {},
   "outputs": [
    {
     "data": {
      "image/png": "[encoded data removed]",
      "text/plain": [
       "<Figure size 432x288 with 1 Axes>"
      ]
     },
     "metadata": {
      "needs_background": "light"
     },
     "output_type": "display_data"
    },
    {
     "data": {
      "image/png": "[encoded data removed]",
      "text/plain": [
       "<Figure size 432x288 with 1 Axes>"
      ]
     },
     "metadata": {
      "needs_background": "light"
     },
     "output_type": "display_data"
    },
    {
     "data": {
      "image/png": "[encoded data removed]",
      "text/plain": [
       "<Figure size 432x288 with 1 Axes>"
      ]
     },
     "metadata": {
      "needs_background": "light"
     },
     "output_type": "display_data"
    },
    {
     "data": {
      "image/png": "[encoded data removed]",
      "text/plain": [
       "<Figure size 432x288 with 1 Axes>"
      ]
     },
     "metadata": {
      "needs_background": "light"
     },
     "output_type": "display_data"
    },
    {
     "data": {
      "image/png": "[encoded data removed]",
      "text/plain": [
       "<Figure size 432x288 with 1 Axes>"
      ]
     },
     "metadata": {
      "needs_background": "light"
     },
     "output_type": "display_data"
    }
   ],
   "source": [
    "plt.figure()\n",
    "plt.title('fractal_dimension_mean')\n",
    "bcBoots[bcBoots.diagnosis=='B'].fractal_dimension_mean.hist( bins=50,color='green',alpha=.5)\n",
    "bcBoots[bcBoots.diagnosis=='M'].fractal_dimension_mean.hist( bins=50,color='red',alpha=.5)\n",
    "\n",
    "plt.figure()\n",
    "plt.title('concave_points_worst')\n",
    "bcBoots[bcBoots.diagnosis=='B'].concave_points_worst.hist( bins=50,color='green',alpha=.5)\n",
    "bcBoots[bcBoots.diagnosis=='M'].concave_points_worst.hist( bins=50,color='red',alpha=.5)\n",
    "\n",
    "plt.figure()\n",
    "plt.title('concave_points_sd_error')\n",
    "bcBoots[bcBoots.diagnosis=='B'].concave_points_sd_error.hist( bins=50,color='green',alpha=.5)\n",
    "bcBoots[bcBoots.diagnosis=='M'].concave_points_sd_error.hist( bins=50,color='red',alpha=.5)\n",
    "\n",
    "plt.figure()\n",
    "plt.title('perimeter_sd_error')\n",
    "bcBoots[bcBoots.diagnosis=='B'].perimeter_sd_error.hist( bins=50,color='green',alpha=.5)\n",
    "bcBoots[bcBoots.diagnosis=='M'].perimeter_sd_error.hist( bins=50,color='red',alpha=.5)\n",
    "\n",
    "plt.figure()\n",
    "plt.title('perimeter_mean')\n",
    "bcBoots[bcBoots.diagnosis=='B'].perimeter_mean.hist( bins=50,color='green',alpha=.5)\n",
    "bcBoots[bcBoots.diagnosis=='M'].perimeter_mean.hist( bins=50,color='red',alpha=.5)\n",
    "\n",
    "\n",
    "\n",
    "\n",
    "\n",
    "plt.show()"
   ]
  },
  {
   "cell_type": "markdown",
   "metadata": {},
   "source": [
    "For each of these features, lower values correspond to benign cells, and higher values correspond to malignant cells. There is an overlap in each case, with slightly more of the distribution of malignant cells in the overlap region. (Note that here we are graphing the original values, not the normalized values that we calculated earlier. Those will come in later for our models.)"
   ]
  },
  {
   "cell_type": "markdown",
   "metadata": {},
   "source": [
    "# Modeling"
   ]
  },
  {
   "cell_type": "markdown",
   "metadata": {},
   "source": [
    "## Data Setup"
   ]
  },
  {
   "cell_type": "markdown",
   "metadata": {},
   "source": [
    "Here, we will split our data into a training set (80%) and a test set (20%). While we're at it, we'll also check the ratios of Malignant to Benign data points in each new set to make sure our earlier randomization worked, and we have (reasonbly) balanced data:"
   ]
  },
  {
   "cell_type": "code",
   "execution_count": 18,
   "metadata": {},
   "outputs": [
    {
     "name": "stdout",
     "output_type": "stream",
     "text": [
      "Test data, Malignant ratio [0.43]:\t51 out of 119\n",
      "Training data, Malignant ratio [0.36]:\t161 out of 450\n"
     ]
    }
   ],
   "source": [
    "train_data,train_labels = X_scaled[:450],bc_Y[:450]\n",
    "test_data,test_labels = X_scaled[450:],bc_Y[450:]\n",
    "\n",
    "print(\"Test data, Malignant ratio [{:.2f}]:\\t{:.0f} out of {:.0f}\".format(\n",
    "    float(test_labels[test_labels.diagnosis_M==1].shape[0]/1./test_labels.shape[0]),\n",
    "                                                                test_labels[test_labels.diagnosis_M==1].shape[0],\n",
    "                                                                test_labels.shape[0]))\n",
    "\n",
    "print(\"Training data, Malignant ratio [{:.2f}]:\\t{:.0f} out of {:.0f}\".format(float(\n",
    "        train_labels[train_labels.diagnosis_M==1].shape[0]/1./train_labels.shape[0]),\n",
    "                                                                    train_labels[train_labels.diagnosis_M==1].shape[0],\n",
    "                                                                    train_labels.shape[0]))"
   ]
  },
  {
   "cell_type": "markdown",
   "metadata": {},
   "source": [
    "## Linear Regression:"
   ]
  },
  {
   "cell_type": "code",
   "execution_count": 23,
   "metadata": {},
   "outputs": [
    {
     "name": "stdout",
     "output_type": "stream",
     "text": [
      "SKLearn calc accuracy:\t\t\t94.12%%\n",
      "SKLearn calc accuracy (true diag B):\t100.00%%\n",
      "SKLearn calc accuracy (true diag M):\t86.27%%\n",
      "SKLearn calc f1 score:\t0.93\n"
     ]
    }
   ],
   "source": [
    "from sklearn.linear_model import LinearRegression\n",
    "\n",
    "bc_LinReg = LinearRegression()\n",
    "bc_LinReg.fit(train_data.values,train_labels.values)\n",
    "LRpredictions = bc_LinReg.predict(test_data.values)\n",
    "LRpredictions = (LRpredictions>.5)\n",
    "\n",
    "print(\"SKLearn calc accuracy:\\t\\t\\t{:.2f}%%\".format(float(100*sklearn.metrics.accuracy_score(LRpredictions,test_labels))))\n",
    "print(\"SKLearn calc accuracy (true diag B):\\t{:.2f}%%\".format(float(100*sklearn.metrics.accuracy_score(LRpredictions[test_labels.diagnosis_M.values==0],test_labels[test_labels.diagnosis_M.values==0]))))\n",
    "print(\"SKLearn calc accuracy (true diag M):\\t{:.2f}%%\".format(float(100*sklearn.metrics.accuracy_score(LRpredictions[test_labels.diagnosis_M.values==1],test_labels[test_labels.diagnosis_M.values==1]))))\n",
    "print(\"SKLearn calc f1 score:\\t{:.2f}\".format(sklearn.metrics.f1_score(LRpredictions,test_labels)))\n"
   ]
  },
  {
   "cell_type": "markdown",
   "metadata": {},
   "source": [
    "### Accuracy: 94%"
   ]
  },
  {
   "cell_type": "markdown",
   "metadata": {},
   "source": [
    "### Results:"
   ]
  },
  {
   "cell_type": "markdown",
   "metadata": {},
   "source": [
    "Using a 0.5 cuttoff between Malignant and Benign, we get decent results from a Linear Regression. But, our model is not well balanced (accurate in both Malignant and Benign cases). Also, we may want to bias it to be more accurate in Malignant cases, since a false negative is more costly than a false positive in cancer detection.\n",
    "\n",
    "Normally (to do a true optimization), we would need to separate out another subset of data, a development set, to optimize our model, then only use the remaining test set for a final score. But for simplicity, we can refer to the graphs we made earlier of different features, and notice that the (apparent) split in the data for different variables was at about a 1/3, in most cases, so it would be reasonable to use .33 as the cuttoff between Malignant and Benign, instead of .5:"
   ]
  },
  {
   "cell_type": "markdown",
   "metadata": {},
   "source": [
    "### Optimization:"
   ]
  },
  {
   "cell_type": "code",
   "execution_count": 28,
   "metadata": {},
   "outputs": [
    {
     "name": "stdout",
     "output_type": "stream",
     "text": [
      "SKLearn calc accuracy:\t\t\t95.80%%\n",
      "SKLearn calc accuracy (true diag B):\t92.65%%\n",
      "SKLearn calc f1 score:\t0.95\n"
     ]
    }
   ],
   "source": [
    "bc_LinReg = LinearRegression()\n",
    "bc_LinReg.fit(train_data.values,train_labels.values)\n",
    "LRpredictions = bc_LinReg.predict(test_data.values)\n",
    "LRpredictions = (LRpredictions>.33)\n",
    "\n",
    "print(\"SKLearn calc accuracy:\\t\\t\\t{:.2f}%%\".format(float(100*sklearn.metrics.accuracy_score(LRpredictions,test_labels))))\n",
    "print(\"SKLearn calc accuracy (true diag B):\\t{:.2f}%%\".format(float(100*sklearn.metrics.accuracy_score(LRpredictions[test_labels.diagnosis_M.values==0],test_labels[test_labels.diagnosis_M.values==0]))))\n",
    "print(\"SKLearn calc f1 score:\\t{:.2f}\".format(sklearn.metrics.f1_score(LRpredictions,test_labels)))\n",
    "\n"
   ]
  },
  {
   "cell_type": "markdown",
   "metadata": {},
   "source": [
    "This \"optimized\" model performs a little better overall, but more importantly it better balances the true positive and true negative accuracies, which is also reflected in the higher F-score (which is a composite of true positive and true negative accuracy). \n",
    "\n",
    "This model demonstrates using different scoring metrics, both in the case of unbalanced populations (which tend to overfit to the majority population), as well as looking specifically at true positive rates and true negative rates, especially in applications where they do not have equal cost. In this application, maximizing true positives (minimizing false negatives) is probably preferable over maximizing overall accuracy."
   ]
  },
  {
   "cell_type": "markdown",
   "metadata": {},
   "source": [
    "### Finding the Important Features:"
   ]
  },
  {
   "cell_type": "code",
   "execution_count": 37,
   "metadata": {
    "scrolled": true
   },
   "outputs": [
    {
     "name": "stdout",
     "output_type": "stream",
     "text": [
      "---CoEfficients---\n",
      "0\t-6.90\tradius_mean\n",
      "1\t0.17\tradius_sd_error\n",
      "2\t5.70\tradius_worst\n",
      "3\t1.14\ttexture_mean\n",
      "4\t-0.00\ttexture_sd_error\n",
      "5\t-1.32\ttexture_worst\n",
      "6\t0.71\tperimeter_mean\n",
      "7\t0.06\tperimeter_sd_error\n",
      "8\t0.06\tperimeter_worst\n",
      "9\t0.05\tarea_mean\n",
      "10\t1.04\tarea_sd_error\n",
      "11\t-0.04\tarea_worst\n",
      "12\t0.25\tsmoothness_mean\n",
      "13\t-1.28\tsmoothness_sd_error\n",
      "14\t0.46\tsmoothness_worst\n",
      "15\t-0.17\tcompactness_mean\n",
      "16\t-1.13\tcompactness_sd_error\n",
      "17\t0.46\tcompactness_worst\n",
      "18\t0.15\tconcavity_mean\n",
      "19\t-0.19\tconcavity_sd_error\n",
      "20\t6.76\tconcavity_worst\n",
      "21\t0.22\tconcave_points_mean\n",
      "22\t-1.89\tconcave_points_sd_error\n",
      "23\t-3.94\tconcave_points_worst\n",
      "24\t0.07\tsymmetry_mean\n",
      "25\t0.15\tsymmetry_sd_error\n",
      "26\t0.20\tsymmetry_worst\n",
      "27\t0.30\tfractal_dimension_mean\n",
      "28\t0.10\tfractal_dimension_sd_error\n",
      "29\t0.65\tfractal_dimension_worst\n",
      "\n",
      "---Significant Features---\n"
     ]
    },
    {
     "ename": "TypeError",
     "evalue": "unsupported format string passed to tuple.__format__",
     "output_type": "error",
     "traceback": [
      "\u001b[0;31m---------------------------------------------------------------------------\u001b[0m",
      "\u001b[0;31mTypeError\u001b[0m                                 Traceback (most recent call last)",
      "\u001b[0;32m<ipython-input-37-bc10a9f4d542>\u001b[0m in \u001b[0;36m<module>\u001b[0;34m\u001b[0m\n\u001b[1;32m      8\u001b[0m \u001b[0;34m\u001b[0m\u001b[0m\n\u001b[1;32m      9\u001b[0m \u001b[0mmaxindex\u001b[0m \u001b[0;34m=\u001b[0m \u001b[0mbc_LinReg\u001b[0m\u001b[0;34m.\u001b[0m\u001b[0mcoef_\u001b[0m\u001b[0;34m.\u001b[0m\u001b[0margmax\u001b[0m\u001b[0;34m(\u001b[0m\u001b[0;34m)\u001b[0m\u001b[0;34m\u001b[0m\u001b[0;34m\u001b[0m\u001b[0m\n\u001b[0;32m---> 10\u001b[0;31m \u001b[0mprint\u001b[0m\u001b[0;34m(\u001b[0m\u001b[0;34m\"Max Coeff:\"\u001b[0m\u001b[0;34m,\u001b[0m\u001b[0mtrain_data\u001b[0m\u001b[0;34m.\u001b[0m\u001b[0mcolumns\u001b[0m\u001b[0;34m[\u001b[0m\u001b[0mmaxindex\u001b[0m\u001b[0;34m]\u001b[0m\u001b[0;34m,\u001b[0m \u001b[0;34m\", @index[{:.0f}]:\\t{:.3f}\"\u001b[0m\u001b[0;34m.\u001b[0m\u001b[0mformat\u001b[0m\u001b[0;34m(\u001b[0m\u001b[0;34m(\u001b[0m\u001b[0mmaxindex\u001b[0m\u001b[0;34m,\u001b[0m\u001b[0mcoef_list\u001b[0m\u001b[0;34m[\u001b[0m\u001b[0mmaxindex\u001b[0m\u001b[0;34m]\u001b[0m\u001b[0;34m)\u001b[0m\u001b[0;34m)\u001b[0m\u001b[0;34m)\u001b[0m\u001b[0;34m\u001b[0m\u001b[0;34m\u001b[0m\u001b[0m\n\u001b[0m\u001b[1;32m     11\u001b[0m \u001b[0;34m\u001b[0m\u001b[0m\n\u001b[1;32m     12\u001b[0m \u001b[0mcoef_list\u001b[0m\u001b[0;34m[\u001b[0m\u001b[0mmaxindex\u001b[0m\u001b[0;34m]\u001b[0m \u001b[0;34m=\u001b[0m \u001b[0;36m0\u001b[0m\u001b[0;34m\u001b[0m\u001b[0;34m\u001b[0m\u001b[0m\n",
      "\u001b[0;31mTypeError\u001b[0m: unsupported format string passed to tuple.__format__"
     ]
    }
   ],
   "source": [
    "coef_list = []\n",
    "print(\"---CoEfficients---\")\n",
    "for i,coef in enumerate(bc_LinReg.coef_[0]):\n",
    "    print(\"{}\\t{:.2f}\\t{}\".format(i, coef,train_data.columns[i]))\n",
    "    coef_list.append(float(coef))\n",
    "\n",
    "print(\"\\n---Significant Features---\")\n",
    "\n",
    "maxindex = bc_LinReg.coef_.argmax()\n",
    "print(\"Max Coeff:\",train_data.columns[maxindex], \", @index[{:.0f}]:\\t{:.3f}\".format((maxindex,coef_list[maxindex])))\n",
    "\n",
    "coef_list[maxindex] = 0\n",
    "maxindex = coef_list.index(max(coef_list))\n",
    "print(\"Second Max Coeff: {}\".format(train_data.columns[maxindex])+ \", @index[{:.0f}]:\\t{:.3f}\".format((maxindex,coef_list[maxindex])))\n",
    "\n",
    "\n",
    "minindex = bc_LinReg.coef_.argmin()\n",
    "print(\"Min Coeff:\",train_data.columns[minindex], \", @index[{:.0f}]:\\t\\t{:.3f}\".format(minindex,coef_list[minindex]))\n",
    "\n",
    "coef_list[minindex] = 0\n",
    "minindex = coef_list.index(min(coef_list))\n",
    "print(\"Second Min Coeff:\",train_data.columns[minindex], \", @index[{:.0f}]:\\t\\t{:.3f}\".format(minindex,coef_list[minindex]))"
   ]
  },
  {
   "cell_type": "markdown",
   "metadata": {},
   "source": [
    "Since we normalized the data prior to fitting it to any models, we can compare/contrast the coeefficients of the predictors to see which are the most significant. Above, we see the strongest positive and negative correlations in our model."
   ]
  },
  {
   "cell_type": "markdown",
   "metadata": {},
   "source": [
    "## Bernoulli Naive Bayes:"
   ]
  },
  {
   "cell_type": "markdown",
   "metadata": {},
   "source": [
    "The Bernoulli Naive Bayes model will convert all features (predictors) to binary inputs. By default, it uses a 0.5 cuttoff to binarize the inputs."
   ]
  },
  {
   "cell_type": "code",
   "execution_count": 40,
   "metadata": {},
   "outputs": [
    {
     "name": "stdout",
     "output_type": "stream",
     "text": [
      "SKLearn calc accuracy:\t\t\t57.14%%\n",
      "SKLearn calc accuracy (true diag B):\t100.00%%\n",
      "SKLearn calc accuracy (true diag M):\t0.00%%\n",
      "SKLearn calc f1 score:\t0.00\n"
     ]
    },
    {
     "name": "stderr",
     "output_type": "stream",
     "text": [
      "/Users/denisvrdoljak/anaconda3/lib/python3.7/site-packages/sklearn/metrics/classification.py:1145: UndefinedMetricWarning: F-score is ill-defined and being set to 0.0 due to no true samples.\n",
      "  'recall', 'true', average, warn_for)\n"
     ]
    }
   ],
   "source": [
    "from sklearn.naive_bayes import BernoulliNB\n",
    "\n",
    "bc_BNB = BernoulliNB()\n",
    "\n",
    "bc_BNB.fit(train_data.values,train_labels.values.ravel())\n",
    "BNBpredictions = bc_BNB.predict(test_data.values)\n",
    "\n",
    "print(\"SKLearn calc accuracy:\\t\\t\\t{:.2f}%%\".format(float(100*sklearn.metrics.accuracy_score(BNBpredictions,test_labels))))\n",
    "print(\"SKLearn calc accuracy (true diag B):\\t{:.2f}%%\".format(float(100*sklearn.metrics.accuracy_score(BNBpredictions[test_labels.diagnosis_M.values==0],test_labels[test_labels.diagnosis_M.values==0]))))\n",
    "print(\"SKLearn calc accuracy (true diag M):\\t{:.2f}%%\".format(float(100*sklearn.metrics.accuracy_score(BNBpredictions[test_labels.diagnosis_M.values==1],test_labels[test_labels.diagnosis_M.values==1]))))\n",
    "print(\"SKLearn calc f1 score:\\t{:.2f}\".format(sklearn.metrics.f1_score(BNBpredictions,test_labels)))\n"
   ]
  },
  {
   "cell_type": "markdown",
   "metadata": {},
   "source": [
    "Note that the F-score is ill-defined because the True Positive accuracy is 0%."
   ]
  },
  {
   "cell_type": "markdown",
   "metadata": {},
   "source": [
    "### Accuracy: 57%"
   ]
  },
  {
   "cell_type": "markdown",
   "metadata": {},
   "source": [
    "### Results:"
   ]
  },
  {
   "cell_type": "markdown",
   "metadata": {},
   "source": [
    "Clearly, treating the predictors as potential binary inputs does not work very well, even with normalization. The model here heavily overfits to the negative (Benign) data, leading to poor overall and true positive (Malignant) accuracy. \n",
    "\n",
    "The default BNB model in SKLearn uses a 0.5 binarization level. But, as we saw in the histograms, the separation point between positive (Malignant) and negative (Benign) datapoints is not at the 0.5 level. Here, we can improve the model by adjusting the binarization level. In the LR model, we were adjusting the binarization on the final output. Here, we'll be adjusting the binarization on the inputs."
   ]
  },
  {
   "cell_type": "markdown",
   "metadata": {},
   "source": [
    "### Optimization:"
   ]
  },
  {
   "cell_type": "code",
   "execution_count": 41,
   "metadata": {},
   "outputs": [
    {
     "name": "stdout",
     "output_type": "stream",
     "text": [
      "SKLearn calc accuracy:\t\t\t92.44%%\n",
      "SKLearn calc accuracy (true diag B):\t98.53%%\n",
      "SKLearn calc accuracy (true diag M):\t84.31%%\n",
      "SKLearn calc f1 score:\t0.91\n"
     ]
    }
   ],
   "source": [
    "bc_BNB = BernoulliNB(binarize=0.33)\n",
    "\n",
    "bc_BNB.fit(train_data.values,train_labels.values.ravel())\n",
    "predictions = bc_BNB.predict(test_data.values)\n",
    "\n",
    "print(\"SKLearn calc accuracy:\\t\\t\\t{:.2f}%%\".format(float(100*sklearn.metrics.accuracy_score(predictions,test_labels))))\n",
    "print(\"SKLearn calc accuracy (true diag B):\\t{:.2f}%%\".format(float(100*sklearn.metrics.accuracy_score(predictions[test_labels.diagnosis_M.values==0],test_labels[test_labels.diagnosis_M.values==0]))))\n",
    "print(\"SKLearn calc accuracy (true diag M):\\t{:.2f}%%\".format(float(100*sklearn.metrics.accuracy_score(predictions[test_labels.diagnosis_M.values==1],test_labels[test_labels.diagnosis_M.values==1]))))\n",
    "print(\"SKLearn calc f1 score:\\t%.2f\" % sklearn.metrics.f1_score(predictions,test_labels))\n",
    "\n"
   ]
  },
  {
   "cell_type": "markdown",
   "metadata": {},
   "source": [
    "### Accuracy (Optimized): 92%"
   ]
  },
  {
   "cell_type": "markdown",
   "metadata": {},
   "source": [
    "Simply adjusting the binarization level to a more appropriate binarization level increases the overall accuracy of the BNB model, as well as balancing the true positive and true negative accuracies. However, it still performs poorly. Part of the reason for this is because a BNB model applies the same binarization level to all inputs.\n",
    "\n",
    "Another variation of NB, a Gaussian Naive Bayes (GNB), uses a separate Gaussian model for each input, allowing for different binarization levels for different inputs. But, the final results are about the same (only 2 percentage points better than BNB).\n",
    "\n",
    "One of the problems with our models is that they presume indipendent inputs. In the case of this dataset, it's unlikely that the inputs are actually independent of each other. If we plot a couple of the features with the highest coefficients from the LR analysis against each other (below), we see strong correlations between pretictor variables. "
   ]
  },
  {
   "cell_type": "code",
   "execution_count": 42,
   "metadata": {
    "scrolled": false
   },
   "outputs": [
    {
     "data": {
      "image/png": "[encoded data removed]",
      "text/plain": [
       "<Figure size 432x288 with 1 Axes>"
      ]
     },
     "metadata": {
      "needs_background": "light"
     },
     "output_type": "display_data"
    },
    {
     "data": {
      "image/png": "[encoded data removed]",
      "text/plain": [
       "<Figure size 432x288 with 1 Axes>"
      ]
     },
     "metadata": {
      "needs_background": "light"
     },
     "output_type": "display_data"
    }
   ],
   "source": [
    "plt.scatter(test_data.radius_worst, test_data.radius_mean)\n",
    "plt.title(\"radius_worst VS. radius_mean\")\n",
    "plt.show()\n",
    "\n",
    "#plt.scatter(test_data.radius_worst, test_data.concave_points_worst)\n",
    "#plt.title(\"radius_worst VS. concave_points_worst\")\n",
    "#plt.show()\n",
    "\n",
    "plt.scatter(test_data.concave_points_worst, test_data.concavity_worst)\n",
    "plt.title(\"concave_points_worst VS. concavity_worst\")\n",
    "plt.show()\n"
   ]
  },
  {
   "cell_type": "markdown",
   "metadata": {},
   "source": [
    "### Finding the Important Features:"
   ]
  },
  {
   "cell_type": "code",
   "execution_count": 43,
   "metadata": {},
   "outputs": [
    {
     "name": "stdout",
     "output_type": "stream",
     "text": [
      "0\t-1.98\t-0.12\tradius_mean              :\t1.86\n",
      "1\t-1.32\t-0.31\tradius_sd_error          :\t1.00\n",
      "2\t-2.12\t-0.12\tradius_worst             :\t1.99\n",
      "3\t-5.67\t-0.59\ttexture_mean             :\t5.08\n",
      "4\t-0.65\t-0.14\ttexture_sd_error         :\t0.50\n",
      "5\t-2.27\t-0.52\ttexture_worst            :\t1.75\n",
      "6\t-3.59\t-0.55\tperimeter_mean           :\t3.04\n",
      "7\t-3.73\t-0.34\tperimeter_sd_error       :\t3.39\n",
      "8\t-0.68\t-0.23\tperimeter_worst          :\t0.45\n",
      "9\t-1.29\t-1.20\tarea_mean                :\t0.09\n",
      "10\t-5.67\t-2.15\tarea_sd_error            :\t3.52\n",
      "11\t-2.06\t-2.45\tarea_worst               :\t-0.39\n",
      "12\t-5.67\t-2.32\tsmoothness_mean          :\t3.35\n",
      "13\t-5.67\t-3.48\tsmoothness_sd_error      :\t2.19\n",
      "14\t-2.45\t-3.01\tsmoothness_worst         :\t-0.56\n",
      "15\t-2.45\t-1.63\tcompactness_mean         :\t0.83\n",
      "16\t-4.06\t-4.40\tcompactness_sd_error     :\t-0.34\n",
      "17\t-2.38\t-1.33\tcompactness_worst        :\t1.04\n",
      "18\t-2.63\t-2.39\tconcavity_mean           :\t0.24\n",
      "19\t-3.37\t-3.71\tconcavity_sd_error       :\t-0.34\n",
      "20\t-4.06\t-0.17\tconcavity_worst          :\t3.89\n",
      "21\t-0.92\t-0.17\tconcave_points_mean      :\t0.75\n",
      "22\t-4.57\t-0.21\tconcave_points_sd_error  :\t4.36\n",
      "23\t-5.67\t-0.86\tconcave_points_worst     :\t4.81\n",
      "24\t-0.56\t-0.17\tsymmetry_mean            :\t0.39\n",
      "25\t-3.11\t-0.78\tsymmetry_sd_error        :\t2.33\n",
      "26\t-3.03\t-0.74\tsymmetry_worst           :\t2.30\n",
      "27\t-1.25\t-0.05\tfractal_dimension_mean   :\t1.20\n",
      "28\t-2.27\t-0.98\tfractal_dimension_sd_error:\t1.29\n",
      "29\t-2.90\t-1.51\tfractal_dimension_worst  :\t1.39\n"
     ]
    }
   ],
   "source": [
    "for i,feature_weight in enumerate(bc_BNB.feature_log_prob_.transpose()):\n",
    "    print(\"{}\\t{:.2f}\\t{:.2f}\\t{:25s}:\\t{:.2f}\".format(i,feature_weight[0],feature_weight[1], train_data.columns[i], (feature_weight[1] - feature_weight[0])))"
   ]
  },
  {
   "cell_type": "markdown",
   "metadata": {},
   "source": [
    "To get around the co-dependence problem, we'll need a model that can tolerate inter-dependence. Next, we'll try a Support Vector Machine (SVM) model."
   ]
  },
  {
   "cell_type": "markdown",
   "metadata": {},
   "source": [
    "## Support Vector Machines:"
   ]
  },
  {
   "cell_type": "code",
   "execution_count": 44,
   "metadata": {},
   "outputs": [
    {
     "name": "stdout",
     "output_type": "stream",
     "text": [
      "SKLearn calc accuracy:\t\t\t96.64%%\n",
      "SKLearn calc accuracy (true diag B):\t98.53%%\n",
      "SKLearn calc accuracy (true diag M):\t94.12%%\n",
      "SKLearn calc f1 score:\t0.96\n"
     ]
    }
   ],
   "source": [
    "from sklearn.svm import SVC\n",
    "\n",
    "bc_SVC = SVC(class_weight={1:1/.36,0:1/.64},kernel='linear')\n",
    "bc_SVC.fit(train_data.values,train_labels.values.ravel())\n",
    "SVCpredictions = bc_SVC.predict(test_data.values)\n",
    "\n",
    "print(\"SKLearn calc accuracy:\\t\\t\\t{:.2f}%%\".format(float(100*sklearn.metrics.accuracy_score(SVCpredictions,test_labels))))\n",
    "print(\"SKLearn calc accuracy (true diag B):\\t{:.2f}%%\".format(float(100*sklearn.metrics.accuracy_score(SVCpredictions[test_labels.diagnosis_M.values==0],test_labels[test_labels.diagnosis_M.values==0]))))\n",
    "print(\"SKLearn calc accuracy (true diag M):\\t{:.2f}%%\".format(float(100*sklearn.metrics.accuracy_score(SVCpredictions[test_labels.diagnosis_M.values==1],test_labels[test_labels.diagnosis_M.values==1]))))\n",
    "print(\"SKLearn calc f1 score:\\t{:.2f}\".format(sklearn.metrics.f1_score(SVCpredictions,test_labels)))\n"
   ]
  },
  {
   "cell_type": "markdown",
   "metadata": {},
   "source": [
    "### Accuracy: 96%"
   ]
  },
  {
   "cell_type": "markdown",
   "metadata": {},
   "source": [
    "The SVM model performs the best overall. SVM is a non-linear model. (Technically, it's a linear model in a higher dimensional space. But, when mapped to the lower dimensional space, it creates non-linear boundaries.) SVM's are one of a few models that can handle non-independent inputs reasonably well, which is why it's ideal for our problemset. Overall, it performs the best in terms of both accuracy and F-score."
   ]
  },
  {
   "cell_type": "markdown",
   "metadata": {
    "collapsed": true
   },
   "source": [
    "### Overview:\n",
    "\n",
    "#### Overview (Non-Technical)\n",
    "These models show several different approaches to predicting data classification. The Linear Regression (LR) model treats the data as continuous and fits a simple linear regression to estimate the final value, which then needs to be binarized to represent Malignant or Benign at the output. Bernoulli Naive Bayes (NB) binarizes the inputs, then calculates the expected class (Malignant or Benign). The LR model performs better than the NB model because too much information is lost in binarizing on the input for non-categorical data. (NB models generally work better with discrete data, such as simple NLP or sentiment analysis (word is either present or not present) or with categorical inputs.)\n",
    "\n",
    "Based on the LR model, the most important predictors are concavity_worst (positive correlation) and radius_mean (negative correlation). In NB, concave_points_worst, concavity_worst, and radius_worst appear to be the most important. Since radius_mean and radius_worst are tightly correlated, as are concavity_worst and concave_points_worst, it appears that (in generalized terms) Radius and Concavity are the most important predictors of Malignant vs. Benign. It also appears that there is a large amount of duplicate \"information\" within the data, in the form of non-independent features.\n",
    "\n",
    "#### Improvements and Limitations (Technical)\n",
    "A limitations of the analysis here, is in the optimization. A true optimization would split the test data further into test and dev data. The optimization would be done with the dev data, using something like a GridSearch() to find each model's respective parameter(s); and, the test data would only be used once for the final scoring. For simplicity, this analysis just estimates a \"better than baseline\" optimization based on prior knowledge/histogram analysis, as opposed to identifying the ideal optimization.\n",
    "\n",
    "An expected limitation was the uneven class sizes; however, even with bootstrap upsampling (not show here), the improvement in accuracies would be negligable (2% on the lesser optimized class, and sometimes no improvement). We did compensate for this unbalance by adjusting the binariztion levels for LR and NB, and by putting the weights into the SVM model, so it wasn't much of an issue.\n",
    "\n",
    "Another concern is overfitting due to non-independent features, especially in the case of the majority class. A potential improvement for this would be to group the variables by category, and test which ones add more information when added to the model. For instance, above we can see that radius_mean and radius_worst are almost perfectly linearly correlated, so having both in the model does little to improve its performance.\n",
    "\n",
    "Since the SVM model shows the most promise in both its overall accuracy and its F-score (measure of balance and accuracie), a further improvement may be to use a kernal method and write better loss function for the data. This would also allow the model to become non-linear (depending on the function)"
   ]
  },
  {
   "cell_type": "code",
   "execution_count": null,
   "metadata": {
    "collapsed": true
   },
   "outputs": [],
   "source": []
  }
 ],
 "metadata": {
  "kernelspec": {
   "display_name": "Python 3",
   "language": "python",
   "name": "python3"
  },
  "language_info": {
   "codemirror_mode": {
    "name": "ipython",
    "version": 3
   },
   "file_extension": ".py",
   "mimetype": "text/x-python",
   "name": "python",
   "nbconvert_exporter": "python",
   "pygments_lexer": "ipython3",
   "version": "3.7.4"
  }
 },
 "nbformat": 4,
 "nbformat_minor": 1
}
